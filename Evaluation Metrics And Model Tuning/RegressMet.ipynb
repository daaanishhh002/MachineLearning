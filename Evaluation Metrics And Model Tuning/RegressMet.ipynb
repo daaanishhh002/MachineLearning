{
 "cells": [
  {
   "cell_type": "markdown",
   "id": "c98e890d-e61b-41c4-8e61-87e00423eca9",
   "metadata": {},
   "source": [
    "# Evaluation Metrics\n",
    "\n",
    "Evaluation metrics are quantitative measures used to assess the performance and effectiveness of a statistical or machine learning model. These metrics provide insights into how well the model is performing and help in comparing different models or algorithms."
   ]
  },
  {
   "cell_type": "markdown",
   "id": "801ad19c-b6a1-4160-beba-6aedf35c6492",
   "metadata": {},
   "source": [
    "## Types of Evaluation Metrics\n",
    "\n",
    "1. Regression Metrics\n",
    "2. Classification Metrics"
   ]
  },
  {
   "cell_type": "markdown",
   "id": "7298957e-6544-45d8-adb7-a2908074f4f3",
   "metadata": {},
   "source": [
    "![fvdf](https://cdn-images-1.medium.com/max/800/1*1WPbfzztdv50V22TpA6njw.png)"
   ]
  },
  {
   "cell_type": "code",
   "execution_count": 1,
   "id": "51543810-89b3-495a-a99c-ff66364d3e38",
   "metadata": {
    "tags": []
   },
   "outputs": [],
   "source": [
    "import numpy as np\n",
    "import pandas as pd\n",
    "import matplotlib.pyplot as plt"
   ]
  },
  {
   "cell_type": "code",
   "execution_count": 2,
   "id": "861d55f8-d629-45f7-bcfd-7dfa5b7de397",
   "metadata": {
    "tags": []
   },
   "outputs": [
    {
     "data": {
      "text/html": [
       "<div>\n",
       "<style scoped>\n",
       "    .dataframe tbody tr th:only-of-type {\n",
       "        vertical-align: middle;\n",
       "    }\n",
       "\n",
       "    .dataframe tbody tr th {\n",
       "        vertical-align: top;\n",
       "    }\n",
       "\n",
       "    .dataframe thead th {\n",
       "        text-align: right;\n",
       "    }\n",
       "</style>\n",
       "<table border=\"1\" class=\"dataframe\">\n",
       "  <thead>\n",
       "    <tr style=\"text-align: right;\">\n",
       "      <th></th>\n",
       "      <th>cgpa</th>\n",
       "      <th>package</th>\n",
       "    </tr>\n",
       "  </thead>\n",
       "  <tbody>\n",
       "    <tr>\n",
       "      <th>66</th>\n",
       "      <td>5.11</td>\n",
       "      <td>1.63</td>\n",
       "    </tr>\n",
       "    <tr>\n",
       "      <th>131</th>\n",
       "      <td>6.37</td>\n",
       "      <td>2.01</td>\n",
       "    </tr>\n",
       "    <tr>\n",
       "      <th>95</th>\n",
       "      <td>6.63</td>\n",
       "      <td>2.79</td>\n",
       "    </tr>\n",
       "    <tr>\n",
       "      <th>5</th>\n",
       "      <td>7.89</td>\n",
       "      <td>2.99</td>\n",
       "    </tr>\n",
       "    <tr>\n",
       "      <th>123</th>\n",
       "      <td>5.10</td>\n",
       "      <td>2.30</td>\n",
       "    </tr>\n",
       "  </tbody>\n",
       "</table>\n",
       "</div>"
      ],
      "text/plain": [
       "     cgpa  package\n",
       "66   5.11     1.63\n",
       "131  6.37     2.01\n",
       "95   6.63     2.79\n",
       "5    7.89     2.99\n",
       "123  5.10     2.30"
      ]
     },
     "execution_count": 2,
     "metadata": {},
     "output_type": "execute_result"
    }
   ],
   "source": [
    "link = 'https://raw.githubusercontent.com/campusx-official/100-days-of-machine-learning/main/day49-regression-metrics/placement.csv'\n",
    "df = pd.read_csv(link)\n",
    "\n",
    "df.sample(5)"
   ]
  },
  {
   "cell_type": "code",
   "execution_count": 3,
   "id": "678490ac-0411-4e9c-8779-df4ed0f7d79a",
   "metadata": {
    "tags": []
   },
   "outputs": [
    {
     "data": {
      "image/png": "[encoded data removed]",
      "text/plain": [
       "<Figure size 640x480 with 1 Axes>"
      ]
     },
     "metadata": {},
     "output_type": "display_data"
    }
   ],
   "source": [
    "plt.scatter(df['cgpa'],df['package'])\n",
    "plt.xlabel('CGPA')\n",
    "plt.ylabel('Package (LPA)');"
   ]
  },
  {
   "cell_type": "code",
   "execution_count": 4,
   "id": "97ba15e3-c708-4f34-a6af-580bc8b5e5b2",
   "metadata": {
    "tags": []
   },
   "outputs": [],
   "source": [
    "X = df.iloc[:,:1]\n",
    "y = df.iloc[:,-1]"
   ]
  },
  {
   "cell_type": "code",
   "execution_count": 5,
   "id": "84626a03-a5c6-4b43-a19d-465ac230d23a",
   "metadata": {
    "tags": []
   },
   "outputs": [],
   "source": [
    "from sklearn.model_selection import train_test_split\n",
    "\n",
    "X_train, X_test, y_train, y_test = train_test_split(X, y, test_size=0.3, random_state=2002)"
   ]
  },
  {
   "cell_type": "code",
   "execution_count": 6,
   "id": "d0142688-5dbf-415f-9fdb-34112251e029",
   "metadata": {
    "tags": []
   },
   "outputs": [],
   "source": [
    "from sklearn.linear_model import LinearRegression\n",
    "\n",
    "lr = LinearRegression()"
   ]
  },
  {
   "cell_type": "code",
   "execution_count": 7,
   "id": "eeae83b0-994a-4864-8889-206a6ad2929f",
   "metadata": {
    "tags": []
   },
   "outputs": [
    {
     "data": {
      "text/html": [
       "<style>#sk-container-id-1 {color: black;}#sk-container-id-1 pre{padding: 0;}#sk-container-id-1 div.sk-toggleable {background-color: white;}#sk-container-id-1 label.sk-toggleable__label {cursor: pointer;display: block;width: 100%;margin-bottom: 0;padding: 0.3em;box-sizing: border-box;text-align: center;}#sk-container-id-1 label.sk-toggleable__label-arrow:before {content: \"▸\";float: left;margin-right: 0.25em;color: #696969;}#sk-container-id-1 label.sk-toggleable__label-arrow:hover:before {color: black;}#sk-container-id-1 div.sk-estimator:hover label.sk-toggleable__label-arrow:before {color: black;}#sk-container-id-1 div.sk-toggleable__content {max-height: 0;max-width: 0;overflow: hidden;text-align: left;background-color: #f0f8ff;}#sk-container-id-1 div.sk-toggleable__content pre {margin: 0.2em;color: black;border-radius: 0.25em;background-color: #f0f8ff;}#sk-container-id-1 input.sk-toggleable__control:checked~div.sk-toggleable__content {max-height: 200px;max-width: 100%;overflow: auto;}#sk-container-id-1 input.sk-toggleable__control:checked~label.sk-toggleable__label-arrow:before {content: \"▾\";}#sk-container-id-1 div.sk-estimator input.sk-toggleable__control:checked~label.sk-toggleable__label {background-color: #d4ebff;}#sk-container-id-1 div.sk-label input.sk-toggleable__control:checked~label.sk-toggleable__label {background-color: #d4ebff;}#sk-container-id-1 input.sk-hidden--visually {border: 0;clip: rect(1px 1px 1px 1px);clip: rect(1px, 1px, 1px, 1px);height: 1px;margin: -1px;overflow: hidden;padding: 0;position: absolute;width: 1px;}#sk-container-id-1 div.sk-estimator {font-family: monospace;background-color: #f0f8ff;border: 1px dotted black;border-radius: 0.25em;box-sizing: border-box;margin-bottom: 0.5em;}#sk-container-id-1 div.sk-estimator:hover {background-color: #d4ebff;}#sk-container-id-1 div.sk-parallel-item::after {content: \"\";width: 100%;border-bottom: 1px solid gray;flex-grow: 1;}#sk-container-id-1 div.sk-label:hover label.sk-toggleable__label {background-color: #d4ebff;}#sk-container-id-1 div.sk-serial::before {content: \"\";position: absolute;border-left: 1px solid gray;box-sizing: border-box;top: 0;bottom: 0;left: 50%;z-index: 0;}#sk-container-id-1 div.sk-serial {display: flex;flex-direction: column;align-items: center;background-color: white;padding-right: 0.2em;padding-left: 0.2em;position: relative;}#sk-container-id-1 div.sk-item {position: relative;z-index: 1;}#sk-container-id-1 div.sk-parallel {display: flex;align-items: stretch;justify-content: center;background-color: white;position: relative;}#sk-container-id-1 div.sk-item::before, #sk-container-id-1 div.sk-parallel-item::before {content: \"\";position: absolute;border-left: 1px solid gray;box-sizing: border-box;top: 0;bottom: 0;left: 50%;z-index: -1;}#sk-container-id-1 div.sk-parallel-item {display: flex;flex-direction: column;z-index: 1;position: relative;background-color: white;}#sk-container-id-1 div.sk-parallel-item:first-child::after {align-self: flex-end;width: 50%;}#sk-container-id-1 div.sk-parallel-item:last-child::after {align-self: flex-start;width: 50%;}#sk-container-id-1 div.sk-parallel-item:only-child::after {width: 0;}#sk-container-id-1 div.sk-dashed-wrapped {border: 1px dashed gray;margin: 0 0.4em 0.5em 0.4em;box-sizing: border-box;padding-bottom: 0.4em;background-color: white;}#sk-container-id-1 div.sk-label label {font-family: monospace;font-weight: bold;display: inline-block;line-height: 1.2em;}#sk-container-id-1 div.sk-label-container {text-align: center;}#sk-container-id-1 div.sk-container {/* jupyter's `normalize.less` sets `[hidden] { display: none; }` but bootstrap.min.css set `[hidden] { display: none !important; }` so we also need the `!important` here to be able to override the default hidden behavior on the sphinx rendered scikit-learn.org. See: https://github.com/scikit-learn/scikit-learn/issues/21755 */display: inline-block !important;position: relative;}#sk-container-id-1 div.sk-text-repr-fallback {display: none;}</style><div id=\"sk-container-id-1\" class=\"sk-top-container\"><div class=\"sk-text-repr-fallback\"><pre>LinearRegression()</pre><b>In a Jupyter environment, please rerun this cell to show the HTML representation or trust the notebook. <br />On GitHub, the HTML representation is unable to render, please try loading this page with nbviewer.org.</b></div><div class=\"sk-container\" hidden><div class=\"sk-item\"><div class=\"sk-estimator sk-toggleable\"><input class=\"sk-toggleable__control sk-hidden--visually\" id=\"sk-estimator-id-1\" type=\"checkbox\" checked><label for=\"sk-estimator-id-1\" class=\"sk-toggleable__label sk-toggleable__label-arrow\">LinearRegression</label><div class=\"sk-toggleable__content\"><pre>LinearRegression()</pre></div></div></div></div></div>"
      ],
      "text/plain": [
       "LinearRegression()"
      ]
     },
     "execution_count": 7,
     "metadata": {},
     "output_type": "execute_result"
    }
   ],
   "source": [
    "lr.fit(X_train,y_train)"
   ]
  },
  {
   "cell_type": "code",
   "execution_count": 8,
   "id": "ca522695-c0e9-4976-9697-f28e2f4ae234",
   "metadata": {
    "tags": []
   },
   "outputs": [
    {
     "data": {
      "image/png": "[encoded data removed]",
      "text/plain": [
       "<Figure size 640x480 with 1 Axes>"
      ]
     },
     "metadata": {},
     "output_type": "display_data"
    }
   ],
   "source": [
    "plt.scatter(df['cgpa'],df['package'])\n",
    "plt.plot(X_train,lr.predict(X_train),c='r')\n",
    "plt.xlabel('CGPA')\n",
    "plt.ylabel('Package (LPA)');"
   ]
  },
  {
   "cell_type": "markdown",
   "id": "da4bd313-5762-41d8-b219-bd882f8e3169",
   "metadata": {},
   "source": [
    "# Regression Metrics\n",
    "\n",
    "Metrics for regression involve calculating an error score to summarize the predictive skill of a model. The difference between the actual output value and model evaluated output value is a method by which we evaluate the models performance. "
   ]
  },
  {
   "cell_type": "markdown",
   "id": "858793af-4926-471b-8c02-2513a65d77ba",
   "metadata": {},
   "source": [
    "[Regression Metrics | CampusX](https://youtu.be/Ti7c-Hz7GSM?si=emuOB69lhjTljABv)"
   ]
  },
  {
   "cell_type": "markdown",
   "id": "def34107-a05b-4b75-ace9-3bc7c580e320",
   "metadata": {},
   "source": [
    "## Types of Regression Metrics\n",
    "\n",
    "1. Mean Absolute Error\n",
    "2. Mean Squared Error\n",
    "3. Root Mean Squared Error\n",
    "4. R2 Score\n",
    "5. Adjusted R2 Score"
   ]
  },
  {
   "cell_type": "markdown",
   "id": "8428c3de-e713-4bc9-bc29-93ce77ba4387",
   "metadata": {},
   "source": [
    "## Mean Absolute Error (MAE)"
   ]
  },
  {
   "cell_type": "markdown",
   "id": "6b14a48e-1eb3-40e8-bad9-0071f448f6d7",
   "metadata": {},
   "source": [
    "$$\\text{Mean Absolute Error } = \\frac{1}{n} \\sum_{i=1}^n |\\hat{y_i}-y_i|$$"
   ]
  },
  {
   "cell_type": "markdown",
   "id": "5ef9d28c-1f12-415d-ae49-03e8896badc3",
   "metadata": {},
   "source": [
    "|Advantages|Disadvantages|\n",
    "|--|--|\n",
    "|Same Unit|Not Differentiable at 0|\n",
    "|Robust to outliers||"
   ]
  },
  {
   "cell_type": "code",
   "execution_count": 9,
   "id": "1835258b-271e-4d80-acfe-9c5b756dd187",
   "metadata": {
    "tags": []
   },
   "outputs": [],
   "source": [
    "from sklearn.metrics import mean_absolute_error, mean_absolute_percentage_error, mean_squared_error, r2_score"
   ]
  },
  {
   "cell_type": "code",
   "execution_count": 10,
   "id": "f19b40bd-47b5-42b4-89df-8fb45f7c3a0e",
   "metadata": {
    "tags": []
   },
   "outputs": [
    {
     "name": "stdout",
     "output_type": "stream",
     "text": [
      "MAE 0.30725516750025844\n"
     ]
    }
   ],
   "source": [
    "print('MAE', mean_absolute_error(y_test, lr.predict(X_test)))"
   ]
  },
  {
   "cell_type": "markdown",
   "id": "6d23dd99-f734-4647-b2e2-c2ec5e22d9e3",
   "metadata": {},
   "source": [
    "## Mean Squared Error (MSE)"
   ]
  },
  {
   "cell_type": "markdown",
   "id": "0b3278e8-00b4-4f76-a4d9-27f5f0cc9b09",
   "metadata": {},
   "source": [
    "$$\\text{Mean Squared Error } = \\frac{1}{n} \\sum_{i=1}^n (\\hat{y_i}-y_i)^2$$"
   ]
  },
  {
   "cell_type": "markdown",
   "id": "dbd1dc89-2f89-4be3-8fd5-fe580ec067ac",
   "metadata": {},
   "source": [
    "|Advantages|Disadvantages|\n",
    "|--|--|\n",
    "|Differentiable at all points|Units aren't same|\n",
    "||Not robust to outliers|"
   ]
  },
  {
   "cell_type": "code",
   "execution_count": 11,
   "id": "c17a0866-9dc7-43cd-aabc-a0775cf664f7",
   "metadata": {
    "tags": []
   },
   "outputs": [
    {
     "name": "stdout",
     "output_type": "stream",
     "text": [
      "MSE 0.1416133933252028\n"
     ]
    }
   ],
   "source": [
    "print('MSE', mean_squared_error(y_test, lr.predict(X_test)))"
   ]
  },
  {
   "cell_type": "markdown",
   "id": "4db69c13-3a2a-4ae2-b6bc-752b71d42f1b",
   "metadata": {},
   "source": [
    "## Root Mean Squared Error (RMSE)"
   ]
  },
  {
   "cell_type": "markdown",
   "id": "f2125778-3b8f-4430-a913-afef8a2685ad",
   "metadata": {},
   "source": [
    "$$\\text{Root Mean Squared Error } = \\sqrt{MSE} = \\sqrt{\\frac{1}{n} \\sum_{i=1}^n (\\hat{y_i}-y_i)^2}$$"
   ]
  },
  {
   "cell_type": "markdown",
   "id": "b573d85a-602c-45f3-9b33-495389631e0c",
   "metadata": {},
   "source": [
    "|Advantages|Disadvantages|\n",
    "|--|--|\n",
    "|Differentiable at all points|Not much robust to outliers|\n",
    "|Units are same||"
   ]
  },
  {
   "cell_type": "code",
   "execution_count": 12,
   "id": "aebfbd52-7ed1-4b44-864d-3000bb9ba211",
   "metadata": {
    "tags": []
   },
   "outputs": [
    {
     "name": "stdout",
     "output_type": "stream",
     "text": [
      "MSE 0.37631555020381874\n"
     ]
    }
   ],
   "source": [
    "print('MSE', np.sqrt(mean_squared_error(y_test, lr.predict(X_test))))"
   ]
  },
  {
   "cell_type": "markdown",
   "id": "4233bf98-b724-4ba7-b4db-659695d1d007",
   "metadata": {},
   "source": [
    "## R2 Score\n",
    "\n",
    "R-squared (R2) is a statistical measure that represents the goodness of fit of a regression model. It explains to what extent the variance of one variable explains the variance of the second variable"
   ]
  },
  {
   "cell_type": "markdown",
   "id": "c439ac10-43e5-44b7-8b86-fdc6fab0806d",
   "metadata": {},
   "source": [
    "$$\\text{R2 Score } = 1 - \\frac{SS_R}{SS_M} = 1 - \\frac{\\sum_{i=1}^n (\\hat{y_i}-y_i)^2}{\\sum_{i=1}^n (\\bar{y_i}-y_i)^2}$$ "
   ]
  },
  {
   "cell_type": "markdown",
   "id": "958aa351-b9b4-48c6-ae7e-7201849afebb",
   "metadata": {},
   "source": [
    "The value of R-square lies between 0 to 1.  \n",
    "- We get R-square equals 1 when the model perfectly fits the data and there is no difference between the predicted value and actual value. \n",
    "- However, we get R-square equals 0 when the model does not predict any variability in the model and it does not learn any relationship between the dependent and independent variables."
   ]
  },
  {
   "cell_type": "markdown",
   "id": "3f4c410a-1d10-4821-9b93-5b4c6e14eecc",
   "metadata": {},
   "source": [
    "[R-squared, Clearly Explained!!!](https://youtu.be/bMccdk8EdGo?si=7HUxBoR4EfaVPl1e)"
   ]
  },
  {
   "cell_type": "code",
   "execution_count": 13,
   "id": "0c8c5f6b-d9bb-4675-ad6e-57ada6b64ead",
   "metadata": {
    "tags": []
   },
   "outputs": [
    {
     "name": "stdout",
     "output_type": "stream",
     "text": [
      "R2 Score 0.7159906096963131\n"
     ]
    }
   ],
   "source": [
    "print('R2 Score', r2_score(y_test, lr.predict(X_test)))"
   ]
  },
  {
   "cell_type": "markdown",
   "id": "b5733aad-417d-40c7-9625-6009094bfb17",
   "metadata": {},
   "source": [
    "## Adjusted R2 Score\n",
    "\n",
    "Adjusted R-squared is a modified version of R-squared that has been adjusted for the number of predictors in the model. \n",
    "- The adjusted R-squared increases when the new term improves the model more than would be expected by chance. \n",
    "- It decreases when a predictor improves the model by less than expected.\n",
    "\n",
    "Calculated when multiple linear regression is used."
   ]
  },
  {
   "cell_type": "markdown",
   "id": "6451190d-b7be-4fd2-b66a-2836073d8825",
   "metadata": {},
   "source": [
    "$$\\text{Adjusted R2 Score } = 1 - \\frac{(1-\\text{R2}) (n-1)}{(n-1-k)}$$\n",
    "\n",
    "$\\text{Where,}$  \n",
    "$\\text{n} \\rightarrow \\text{No. of rows}$  \n",
    "$\\text{k} \\rightarrow \\text{No. of independent columns}$"
   ]
  },
  {
   "cell_type": "code",
   "execution_count": 14,
   "id": "482f4886-68f1-445e-bbb0-510a72d4c404",
   "metadata": {
    "tags": []
   },
   "outputs": [
    {
     "name": "stdout",
     "output_type": "stream",
     "text": [
      "Adjusted R2 Score 0.7110938960703874\n"
     ]
    }
   ],
   "source": [
    "print('Adjusted R2 Score', 1 - (1-r2_score(y_test, lr.predict(X_test)))*(60-1)/(60-1-1))"
   ]
  },
  {
   "cell_type": "markdown",
   "id": "700d65ed-3696-41b9-80a8-105dc1f69285",
   "metadata": {
    "tags": []
   },
   "source": [
    "**Adding A Random Feature**"
   ]
  },
  {
   "cell_type": "code",
   "execution_count": 15,
   "id": "500ef266-4b6a-42d5-94ca-44da6aad0b42",
   "metadata": {
    "tags": []
   },
   "outputs": [
    {
     "data": {
      "text/html": [
       "<div>\n",
       "<style scoped>\n",
       "    .dataframe tbody tr th:only-of-type {\n",
       "        vertical-align: middle;\n",
       "    }\n",
       "\n",
       "    .dataframe tbody tr th {\n",
       "        vertical-align: top;\n",
       "    }\n",
       "\n",
       "    .dataframe thead th {\n",
       "        text-align: right;\n",
       "    }\n",
       "</style>\n",
       "<table border=\"1\" class=\"dataframe\">\n",
       "  <thead>\n",
       "    <tr style=\"text-align: right;\">\n",
       "      <th></th>\n",
       "      <th>cgpa</th>\n",
       "      <th>rand_feat</th>\n",
       "      <th>package</th>\n",
       "    </tr>\n",
       "  </thead>\n",
       "  <tbody>\n",
       "    <tr>\n",
       "      <th>103</th>\n",
       "      <td>7.05</td>\n",
       "      <td>0.913143</td>\n",
       "      <td>3.00</td>\n",
       "    </tr>\n",
       "    <tr>\n",
       "      <th>183</th>\n",
       "      <td>7.28</td>\n",
       "      <td>0.945540</td>\n",
       "      <td>2.72</td>\n",
       "    </tr>\n",
       "    <tr>\n",
       "      <th>18</th>\n",
       "      <td>6.94</td>\n",
       "      <td>0.050867</td>\n",
       "      <td>2.98</td>\n",
       "    </tr>\n",
       "    <tr>\n",
       "      <th>21</th>\n",
       "      <td>6.85</td>\n",
       "      <td>0.076452</td>\n",
       "      <td>2.93</td>\n",
       "    </tr>\n",
       "    <tr>\n",
       "      <th>157</th>\n",
       "      <td>6.47</td>\n",
       "      <td>0.578229</td>\n",
       "      <td>2.70</td>\n",
       "    </tr>\n",
       "  </tbody>\n",
       "</table>\n",
       "</div>"
      ],
      "text/plain": [
       "     cgpa  rand_feat  package\n",
       "103  7.05   0.913143     3.00\n",
       "183  7.28   0.945540     2.72\n",
       "18   6.94   0.050867     2.98\n",
       "21   6.85   0.076452     2.93\n",
       "157  6.47   0.578229     2.70"
      ]
     },
     "execution_count": 15,
     "metadata": {},
     "output_type": "execute_result"
    }
   ],
   "source": [
    "n_df = df.copy()\n",
    "n_df['rand_feat'] = np.random.random(200)\n",
    "\n",
    "n_df = n_df[['cgpa','rand_feat','package']]\n",
    "n_df.sample(5)"
   ]
  },
  {
   "cell_type": "code",
   "execution_count": 16,
   "id": "9ca9d808-bc8f-47bb-a2a5-c58c12e33880",
   "metadata": {
    "tags": []
   },
   "outputs": [],
   "source": [
    "X = n_df.iloc[:,:2]\n",
    "y = n_df.iloc[:,-1]"
   ]
  },
  {
   "cell_type": "code",
   "execution_count": 17,
   "id": "e39ac6fe-5b0b-412e-bf17-f12f98e02c87",
   "metadata": {
    "tags": []
   },
   "outputs": [],
   "source": [
    "X_train, X_test, y_train, y_test = train_test_split(X,y,test_size=0.3,random_state=2002)"
   ]
  },
  {
   "cell_type": "code",
   "execution_count": 18,
   "id": "301fb89c-602e-4765-b687-b22cfc180a59",
   "metadata": {
    "tags": []
   },
   "outputs": [],
   "source": [
    "lr = LinearRegression()"
   ]
  },
  {
   "cell_type": "code",
   "execution_count": 19,
   "id": "ce64ea14-1e5f-4496-8dc4-b0d4c6705dee",
   "metadata": {
    "tags": []
   },
   "outputs": [
    {
     "data": {
      "text/html": [
       "<style>#sk-container-id-2 {color: black;}#sk-container-id-2 pre{padding: 0;}#sk-container-id-2 div.sk-toggleable {background-color: white;}#sk-container-id-2 label.sk-toggleable__label {cursor: pointer;display: block;width: 100%;margin-bottom: 0;padding: 0.3em;box-sizing: border-box;text-align: center;}#sk-container-id-2 label.sk-toggleable__label-arrow:before {content: \"▸\";float: left;margin-right: 0.25em;color: #696969;}#sk-container-id-2 label.sk-toggleable__label-arrow:hover:before {color: black;}#sk-container-id-2 div.sk-estimator:hover label.sk-toggleable__label-arrow:before {color: black;}#sk-container-id-2 div.sk-toggleable__content {max-height: 0;max-width: 0;overflow: hidden;text-align: left;background-color: #f0f8ff;}#sk-container-id-2 div.sk-toggleable__content pre {margin: 0.2em;color: black;border-radius: 0.25em;background-color: #f0f8ff;}#sk-container-id-2 input.sk-toggleable__control:checked~div.sk-toggleable__content {max-height: 200px;max-width: 100%;overflow: auto;}#sk-container-id-2 input.sk-toggleable__control:checked~label.sk-toggleable__label-arrow:before {content: \"▾\";}#sk-container-id-2 div.sk-estimator input.sk-toggleable__control:checked~label.sk-toggleable__label {background-color: #d4ebff;}#sk-container-id-2 div.sk-label input.sk-toggleable__control:checked~label.sk-toggleable__label {background-color: #d4ebff;}#sk-container-id-2 input.sk-hidden--visually {border: 0;clip: rect(1px 1px 1px 1px);clip: rect(1px, 1px, 1px, 1px);height: 1px;margin: -1px;overflow: hidden;padding: 0;position: absolute;width: 1px;}#sk-container-id-2 div.sk-estimator {font-family: monospace;background-color: #f0f8ff;border: 1px dotted black;border-radius: 0.25em;box-sizing: border-box;margin-bottom: 0.5em;}#sk-container-id-2 div.sk-estimator:hover {background-color: #d4ebff;}#sk-container-id-2 div.sk-parallel-item::after {content: \"\";width: 100%;border-bottom: 1px solid gray;flex-grow: 1;}#sk-container-id-2 div.sk-label:hover label.sk-toggleable__label {background-color: #d4ebff;}#sk-container-id-2 div.sk-serial::before {content: \"\";position: absolute;border-left: 1px solid gray;box-sizing: border-box;top: 0;bottom: 0;left: 50%;z-index: 0;}#sk-container-id-2 div.sk-serial {display: flex;flex-direction: column;align-items: center;background-color: white;padding-right: 0.2em;padding-left: 0.2em;position: relative;}#sk-container-id-2 div.sk-item {position: relative;z-index: 1;}#sk-container-id-2 div.sk-parallel {display: flex;align-items: stretch;justify-content: center;background-color: white;position: relative;}#sk-container-id-2 div.sk-item::before, #sk-container-id-2 div.sk-parallel-item::before {content: \"\";position: absolute;border-left: 1px solid gray;box-sizing: border-box;top: 0;bottom: 0;left: 50%;z-index: -1;}#sk-container-id-2 div.sk-parallel-item {display: flex;flex-direction: column;z-index: 1;position: relative;background-color: white;}#sk-container-id-2 div.sk-parallel-item:first-child::after {align-self: flex-end;width: 50%;}#sk-container-id-2 div.sk-parallel-item:last-child::after {align-self: flex-start;width: 50%;}#sk-container-id-2 div.sk-parallel-item:only-child::after {width: 0;}#sk-container-id-2 div.sk-dashed-wrapped {border: 1px dashed gray;margin: 0 0.4em 0.5em 0.4em;box-sizing: border-box;padding-bottom: 0.4em;background-color: white;}#sk-container-id-2 div.sk-label label {font-family: monospace;font-weight: bold;display: inline-block;line-height: 1.2em;}#sk-container-id-2 div.sk-label-container {text-align: center;}#sk-container-id-2 div.sk-container {/* jupyter's `normalize.less` sets `[hidden] { display: none; }` but bootstrap.min.css set `[hidden] { display: none !important; }` so we also need the `!important` here to be able to override the default hidden behavior on the sphinx rendered scikit-learn.org. See: https://github.com/scikit-learn/scikit-learn/issues/21755 */display: inline-block !important;position: relative;}#sk-container-id-2 div.sk-text-repr-fallback {display: none;}</style><div id=\"sk-container-id-2\" class=\"sk-top-container\"><div class=\"sk-text-repr-fallback\"><pre>LinearRegression()</pre><b>In a Jupyter environment, please rerun this cell to show the HTML representation or trust the notebook. <br />On GitHub, the HTML representation is unable to render, please try loading this page with nbviewer.org.</b></div><div class=\"sk-container\" hidden><div class=\"sk-item\"><div class=\"sk-estimator sk-toggleable\"><input class=\"sk-toggleable__control sk-hidden--visually\" id=\"sk-estimator-id-2\" type=\"checkbox\" checked><label for=\"sk-estimator-id-2\" class=\"sk-toggleable__label sk-toggleable__label-arrow\">LinearRegression</label><div class=\"sk-toggleable__content\"><pre>LinearRegression()</pre></div></div></div></div></div>"
      ],
      "text/plain": [
       "LinearRegression()"
      ]
     },
     "execution_count": 19,
     "metadata": {},
     "output_type": "execute_result"
    }
   ],
   "source": [
    "lr.fit(X_train,y_train)"
   ]
  },
  {
   "cell_type": "code",
   "execution_count": 20,
   "id": "617db127-9dd5-4211-b652-a0013416c26f",
   "metadata": {
    "tags": []
   },
   "outputs": [],
   "source": [
    "y_pred = lr.predict(X_test)"
   ]
  },
  {
   "cell_type": "code",
   "execution_count": 21,
   "id": "cc20a4c4-f1f9-4ce3-bcae-309eb39c0f57",
   "metadata": {
    "tags": []
   },
   "outputs": [
    {
     "name": "stdout",
     "output_type": "stream",
     "text": [
      "R2 Score 0.7211511756541329\n"
     ]
    }
   ],
   "source": [
    "r2 = r2_score(y_test,y_pred)\n",
    "print(f'R2 Score {r2}')"
   ]
  },
  {
   "cell_type": "code",
   "execution_count": 22,
   "id": "29f52120-be93-474f-8e64-65b5727ab306",
   "metadata": {
    "tags": []
   },
   "outputs": [
    {
     "name": "stdout",
     "output_type": "stream",
     "text": [
      "Adjusted R2 Score 0.7163434373033422\n"
     ]
    }
   ],
   "source": [
    "adj_r2 = 1 - (1-r2)*(60-1)/(60-1-1)\n",
    "print(f'Adjusted R2 Score {adj_r2}')"
   ]
  },
  {
   "cell_type": "markdown",
   "id": "cceaf39f-9581-498c-afb9-9f7241fe2ddb",
   "metadata": {},
   "source": [
    "**Adding A Non-Random Feature**"
   ]
  },
  {
   "cell_type": "code",
   "execution_count": 23,
   "id": "01502306-f924-4a55-867a-aad8d9eebf18",
   "metadata": {
    "tags": []
   },
   "outputs": [
    {
     "data": {
      "text/html": [
       "<div>\n",
       "<style scoped>\n",
       "    .dataframe tbody tr th:only-of-type {\n",
       "        vertical-align: middle;\n",
       "    }\n",
       "\n",
       "    .dataframe tbody tr th {\n",
       "        vertical-align: top;\n",
       "    }\n",
       "\n",
       "    .dataframe thead th {\n",
       "        text-align: right;\n",
       "    }\n",
       "</style>\n",
       "<table border=\"1\" class=\"dataframe\">\n",
       "  <thead>\n",
       "    <tr style=\"text-align: right;\">\n",
       "      <th></th>\n",
       "      <th>cgpa</th>\n",
       "      <th>iq</th>\n",
       "      <th>package</th>\n",
       "    </tr>\n",
       "  </thead>\n",
       "  <tbody>\n",
       "    <tr>\n",
       "      <th>160</th>\n",
       "      <td>7.13</td>\n",
       "      <td>3.73</td>\n",
       "      <td>2.93</td>\n",
       "    </tr>\n",
       "    <tr>\n",
       "      <th>62</th>\n",
       "      <td>6.34</td>\n",
       "      <td>1.99</td>\n",
       "      <td>2.09</td>\n",
       "    </tr>\n",
       "    <tr>\n",
       "      <th>94</th>\n",
       "      <td>5.83</td>\n",
       "      <td>2.52</td>\n",
       "      <td>2.42</td>\n",
       "    </tr>\n",
       "    <tr>\n",
       "      <th>112</th>\n",
       "      <td>8.58</td>\n",
       "      <td>3.10</td>\n",
       "      <td>4.10</td>\n",
       "    </tr>\n",
       "    <tr>\n",
       "      <th>1</th>\n",
       "      <td>5.12</td>\n",
       "      <td>2.78</td>\n",
       "      <td>1.98</td>\n",
       "    </tr>\n",
       "  </tbody>\n",
       "</table>\n",
       "</div>"
      ],
      "text/plain": [
       "     cgpa    iq  package\n",
       "160  7.13  3.73     2.93\n",
       "62   6.34  1.99     2.09\n",
       "94   5.83  2.52     2.42\n",
       "112  8.58  3.10     4.10\n",
       "1    5.12  2.78     1.98"
      ]
     },
     "execution_count": 23,
     "metadata": {},
     "output_type": "execute_result"
    }
   ],
   "source": [
    "n_df = df.copy()\n",
    "n_df['iq'] = n_df['package'] + (np.random.randint(-12,12,200)/10)\n",
    "\n",
    "n_df = n_df[['cgpa','iq','package']]\n",
    "n_df.sample(5)"
   ]
  },
  {
   "cell_type": "code",
   "execution_count": 24,
   "id": "3883f451-4676-4a5a-91a4-aefaa51774cc",
   "metadata": {
    "tags": []
   },
   "outputs": [],
   "source": [
    "X = n_df.iloc[:,:2]\n",
    "y = n_df.iloc[:,-1]"
   ]
  },
  {
   "cell_type": "code",
   "execution_count": 25,
   "id": "4ca1db38-ffe9-4f84-a706-fb650d0f5f4a",
   "metadata": {
    "tags": []
   },
   "outputs": [],
   "source": [
    "X_train, X_test, y_train, y_test = train_test_split(X,y,test_size=0.3,random_state=2002)"
   ]
  },
  {
   "cell_type": "code",
   "execution_count": 26,
   "id": "855bcfca-9787-40fe-92d0-048b8413d190",
   "metadata": {
    "tags": []
   },
   "outputs": [],
   "source": [
    "lr = LinearRegression()"
   ]
  },
  {
   "cell_type": "code",
   "execution_count": 27,
   "id": "98541ca0-c30b-4efb-b3ce-a51d6ca89bee",
   "metadata": {
    "tags": []
   },
   "outputs": [
    {
     "data": {
      "text/html": [
       "<style>#sk-container-id-3 {color: black;}#sk-container-id-3 pre{padding: 0;}#sk-container-id-3 div.sk-toggleable {background-color: white;}#sk-container-id-3 label.sk-toggleable__label {cursor: pointer;display: block;width: 100%;margin-bottom: 0;padding: 0.3em;box-sizing: border-box;text-align: center;}#sk-container-id-3 label.sk-toggleable__label-arrow:before {content: \"▸\";float: left;margin-right: 0.25em;color: #696969;}#sk-container-id-3 label.sk-toggleable__label-arrow:hover:before {color: black;}#sk-container-id-3 div.sk-estimator:hover label.sk-toggleable__label-arrow:before {color: black;}#sk-container-id-3 div.sk-toggleable__content {max-height: 0;max-width: 0;overflow: hidden;text-align: left;background-color: #f0f8ff;}#sk-container-id-3 div.sk-toggleable__content pre {margin: 0.2em;color: black;border-radius: 0.25em;background-color: #f0f8ff;}#sk-container-id-3 input.sk-toggleable__control:checked~div.sk-toggleable__content {max-height: 200px;max-width: 100%;overflow: auto;}#sk-container-id-3 input.sk-toggleable__control:checked~label.sk-toggleable__label-arrow:before {content: \"▾\";}#sk-container-id-3 div.sk-estimator input.sk-toggleable__control:checked~label.sk-toggleable__label {background-color: #d4ebff;}#sk-container-id-3 div.sk-label input.sk-toggleable__control:checked~label.sk-toggleable__label {background-color: #d4ebff;}#sk-container-id-3 input.sk-hidden--visually {border: 0;clip: rect(1px 1px 1px 1px);clip: rect(1px, 1px, 1px, 1px);height: 1px;margin: -1px;overflow: hidden;padding: 0;position: absolute;width: 1px;}#sk-container-id-3 div.sk-estimator {font-family: monospace;background-color: #f0f8ff;border: 1px dotted black;border-radius: 0.25em;box-sizing: border-box;margin-bottom: 0.5em;}#sk-container-id-3 div.sk-estimator:hover {background-color: #d4ebff;}#sk-container-id-3 div.sk-parallel-item::after {content: \"\";width: 100%;border-bottom: 1px solid gray;flex-grow: 1;}#sk-container-id-3 div.sk-label:hover label.sk-toggleable__label {background-color: #d4ebff;}#sk-container-id-3 div.sk-serial::before {content: \"\";position: absolute;border-left: 1px solid gray;box-sizing: border-box;top: 0;bottom: 0;left: 50%;z-index: 0;}#sk-container-id-3 div.sk-serial {display: flex;flex-direction: column;align-items: center;background-color: white;padding-right: 0.2em;padding-left: 0.2em;position: relative;}#sk-container-id-3 div.sk-item {position: relative;z-index: 1;}#sk-container-id-3 div.sk-parallel {display: flex;align-items: stretch;justify-content: center;background-color: white;position: relative;}#sk-container-id-3 div.sk-item::before, #sk-container-id-3 div.sk-parallel-item::before {content: \"\";position: absolute;border-left: 1px solid gray;box-sizing: border-box;top: 0;bottom: 0;left: 50%;z-index: -1;}#sk-container-id-3 div.sk-parallel-item {display: flex;flex-direction: column;z-index: 1;position: relative;background-color: white;}#sk-container-id-3 div.sk-parallel-item:first-child::after {align-self: flex-end;width: 50%;}#sk-container-id-3 div.sk-parallel-item:last-child::after {align-self: flex-start;width: 50%;}#sk-container-id-3 div.sk-parallel-item:only-child::after {width: 0;}#sk-container-id-3 div.sk-dashed-wrapped {border: 1px dashed gray;margin: 0 0.4em 0.5em 0.4em;box-sizing: border-box;padding-bottom: 0.4em;background-color: white;}#sk-container-id-3 div.sk-label label {font-family: monospace;font-weight: bold;display: inline-block;line-height: 1.2em;}#sk-container-id-3 div.sk-label-container {text-align: center;}#sk-container-id-3 div.sk-container {/* jupyter's `normalize.less` sets `[hidden] { display: none; }` but bootstrap.min.css set `[hidden] { display: none !important; }` so we also need the `!important` here to be able to override the default hidden behavior on the sphinx rendered scikit-learn.org. See: https://github.com/scikit-learn/scikit-learn/issues/21755 */display: inline-block !important;position: relative;}#sk-container-id-3 div.sk-text-repr-fallback {display: none;}</style><div id=\"sk-container-id-3\" class=\"sk-top-container\"><div class=\"sk-text-repr-fallback\"><pre>LinearRegression()</pre><b>In a Jupyter environment, please rerun this cell to show the HTML representation or trust the notebook. <br />On GitHub, the HTML representation is unable to render, please try loading this page with nbviewer.org.</b></div><div class=\"sk-container\" hidden><div class=\"sk-item\"><div class=\"sk-estimator sk-toggleable\"><input class=\"sk-toggleable__control sk-hidden--visually\" id=\"sk-estimator-id-3\" type=\"checkbox\" checked><label for=\"sk-estimator-id-3\" class=\"sk-toggleable__label sk-toggleable__label-arrow\">LinearRegression</label><div class=\"sk-toggleable__content\"><pre>LinearRegression()</pre></div></div></div></div></div>"
      ],
      "text/plain": [
       "LinearRegression()"
      ]
     },
     "execution_count": 27,
     "metadata": {},
     "output_type": "execute_result"
    }
   ],
   "source": [
    "lr.fit(X_train,y_train)"
   ]
  },
  {
   "cell_type": "code",
   "execution_count": 28,
   "id": "cc446545-8a8a-4aaf-b766-529152b92f6c",
   "metadata": {
    "tags": []
   },
   "outputs": [],
   "source": [
    "y_pred = lr.predict(X_test)"
   ]
  },
  {
   "cell_type": "code",
   "execution_count": 29,
   "id": "209afe28-d97c-49e1-b369-33b920dd80ae",
   "metadata": {
    "tags": []
   },
   "outputs": [
    {
     "name": "stdout",
     "output_type": "stream",
     "text": [
      "R2 Score 0.7648639515024904\n"
     ]
    }
   ],
   "source": [
    "r2 = r2_score(y_test,y_pred)\n",
    "print(f'R2 Score {r2}')"
   ]
  },
  {
   "cell_type": "code",
   "execution_count": 30,
   "id": "ae65e0fb-96f4-44bf-90e4-ad485511308f",
   "metadata": {
    "tags": []
   },
   "outputs": [
    {
     "name": "stdout",
     "output_type": "stream",
     "text": [
      "Adjusted R2 Score 0.7608098817008092\n"
     ]
    }
   ],
   "source": [
    "adj_r2 = 1 - (1-r2)*(60-1)/(60-1-1)\n",
    "print(f'Adjusted R2 Score {adj_r2}')"
   ]
  },
  {
   "cell_type": "markdown",
   "id": "9724f410-e4d7-46e5-8d36-485ea3a94a5c",
   "metadata": {},
   "source": [
    "||With  1 Valuable Column|With 1 Random Column and 1 Valuable Column|With 2 Valuable Column|\n",
    "|--|--|--|--|\n",
    "|R2 Score|0.7159|0.7067|0.7977|\n",
    "|Adjusted R2 Score|0.7110|0.7017|0.7942|"
   ]
  },
  {
   "cell_type": "code",
   "execution_count": null,
   "id": "f19d63e1-8dc5-4115-bcd4-dce3094092df",
   "metadata": {},
   "outputs": [],
   "source": []
  }
 ],
 "metadata": {
  "kernelspec": {
   "display_name": "Python 3 (ipykernel)",
   "language": "python",
   "name": "python3"
  },
  "language_info": {
   "codemirror_mode": {
    "name": "ipython",
    "version": 3
   },
   "file_extension": ".py",
   "mimetype": "text/x-python",
   "name": "python",
   "nbconvert_exporter": "python",
   "pygments_lexer": "ipython3",
   "version": "3.11.5"
  }
 },
 "nbformat": 4,
 "nbformat_minor": 5
}
