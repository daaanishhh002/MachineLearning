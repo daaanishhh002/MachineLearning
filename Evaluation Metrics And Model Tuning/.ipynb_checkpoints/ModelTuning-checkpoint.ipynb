{
 "cells": [
  {
   "cell_type": "markdown",
   "id": "30eb4ec6-6bc7-4a5d-a7ff-a84dc23cd731",
   "metadata": {},
   "source": [
    "[Leave 1 Out Cross Validation](https://www.youtube.com/watch?v=yxqcHWQKkdA)  \n",
    "[Time Series Cross Validation](https://www.youtube.com/watch?v=g9iO2AwTXyI)\n",
    "\n",
    "[GridSearchCV](https://www.youtube.com/watch?v=4Im0CT43QxY)  \n",
    "[RandomSearchCV](https://www.youtube.com/watch?v=Q5dH5mOQ_ik)  \n",
    "[Hyperparameter Tuning](https://www.youtube.com/watch?v=355u2bDqB7c)"
   ]
  },
  {
   "cell_type": "code",
   "execution_count": 1,
   "id": "ec370dd7-2533-4825-bf73-f79effebf1c4",
   "metadata": {
    "tags": []
   },
   "outputs": [],
   "source": [
    "import numpy as np\n",
    "import pandas as pd"
   ]
  },
  {
   "cell_type": "markdown",
   "id": "7b52feab-1ffb-4b86-b487-9812b7ec4b3e",
   "metadata": {},
   "source": [
    "# Cross Validation\n",
    "\n",
    "It is a statistical technique used in machine learning and statistics to assess how well a predictive model will perform on unseen data. The basic idea is to split the available dataset into multiple subsets or folds.\n",
    "\n",
    "[Machine Learning Fundamentals: Cross Validation](https://youtu.be/fSytzGwwBVw?si=TSZXN41ZNLQPXm5U)"
   ]
  },
  {
   "cell_type": "markdown",
   "id": "057fb0d4-9baf-41d1-9fda-03bb6edb55c4",
   "metadata": {},
   "source": [
    "## Types of Cross Validation\n",
    "\n",
    "1. **K-Fold Cross Validation**: The model is trained on k-1 folds and validated on the remaining fold. This process is repeated k times, with each fold serving as the validation set exactly once.\n",
    "\n",
    "2. **Stratified K-Fold Cross Validation**: This technique is similar to k-fold cross-validation, but it ensures that each fold has approximately the same proportion of target classes as the original dataset. It's particularly useful for imbalanced datasets where one class is much more prevalent than the others.\n",
    "\n",
    "3. **Leave One Out Cross Validation**: This process is repeated n times, where n is the total number of observations in the dataset. It is computationally expensive, especially for large datasets, but it provides a less biased estimate of the model's performance.\n",
    "\n",
    "4. **Repeated K-Fold Cross Validation**: This method involves repeating k-fold cross-validation multiple times with different random splits of the data. It helps to reduce the variability in the estimated performance of the model.\n",
    "\n",
    "5. **Shuffle Split Cross Validation**: This process is repeated multiple times. It is useful when the dataset is too large to be easily divided into folds or when you want a specific number of iterations rather than a fixed number of folds.\n",
    "\n",
    "6. **Time Series Cross Validation**: Time series data requires a different approach to cross-validation because the order of observations matters. Techniques like forward chaining or sliding window validation are commonly used for time series data, where the model is trained on past data and validated on future data."
   ]
  },
  {
   "cell_type": "markdown",
   "id": "68b51d61-8e0a-4c46-85f0-642e3b3a5659",
   "metadata": {},
   "source": [
    "[Complete Guide to Cross Validation](https://youtu.be/-8s9KuNo5SA?si=rk1Ltp9_5GpqYiX_)"
   ]
  },
  {
   "cell_type": "code",
   "execution_count": 15,
   "id": "a768669c-505d-4b10-bd07-68951fd828e4",
   "metadata": {
    "tags": []
   },
   "outputs": [],
   "source": [
    "from sklearn.datasets import load_digits\n",
    "\n",
    "digits = load_digits()"
   ]
  },
  {
   "cell_type": "code",
   "execution_count": 16,
   "id": "683e045c-2719-4eed-b182-a98c9417404d",
   "metadata": {
    "tags": []
   },
   "outputs": [],
   "source": [
    "from sklearn.model_selection import train_test_split\n",
    "X_train, X_test, y_train, y_test = train_test_split(digits.data,\n",
    "                                                    digits.target,\n",
    "                                                    test_size=0.3,\n",
    "                                                    random_state=2002)"
   ]
  },
  {
   "cell_type": "code",
   "execution_count": 17,
   "id": "5ad0cde1-0e32-4ee7-b54b-8082cb863fc4",
   "metadata": {
    "tags": []
   },
   "outputs": [],
   "source": [
    "from sklearn.linear_model import LogisticRegression\n",
    "from sklearn.svm import SVC\n",
    "from sklearn.ensemble import RandomForestClassifier"
   ]
  },
  {
   "cell_type": "code",
   "execution_count": 21,
   "id": "a1924a97-9603-4df0-b225-4186537635a1",
   "metadata": {
    "tags": []
   },
   "outputs": [
    {
     "name": "stdout",
     "output_type": "stream",
     "text": [
      "0.9648148148148148\n",
      "0.4\n",
      "0.9740740740740741\n"
     ]
    }
   ],
   "source": [
    "lr = LogisticRegression(solver='liblinear',multi_class='ovr')\n",
    "lr.fit(X_train, y_train)\n",
    "print(lr.score(X_test, y_test))\n",
    "\n",
    "svm = SVC(gamma='auto')\n",
    "svm.fit(X_train, y_train)\n",
    "print(svm.score(X_test, y_test))\n",
    "\n",
    "rf = RandomForestClassifier(n_estimators=40)\n",
    "rf.fit(X_train, y_train)\n",
    "print(rf.score(X_test, y_test))"
   ]
  },
  {
   "cell_type": "markdown",
   "id": "aea9ade0-188c-4fe1-981b-38055f770d3e",
   "metadata": {},
   "source": [
    "**K-Fold**"
   ]
  },
  {
   "cell_type": "code",
   "execution_count": 22,
   "id": "1b8b0f3b-430e-4696-91a8-c0eaeddc7f77",
   "metadata": {
    "tags": []
   },
   "outputs": [],
   "source": [
    "from sklearn.model_selection import KFold"
   ]
  },
  {
   "cell_type": "code",
   "execution_count": 30,
   "id": "be843642-7b12-4477-a450-c64f9c3d1e64",
   "metadata": {
    "tags": []
   },
   "outputs": [
    {
     "data": {
      "text/plain": [
       "KFold(n_splits=7, random_state=None, shuffle=True)"
      ]
     },
     "execution_count": 30,
     "metadata": {},
     "output_type": "execute_result"
    }
   ],
   "source": [
    "kf = KFold(n_splits=7,shuffle=True)\n",
    "kf"
   ]
  },
  {
   "cell_type": "code",
   "execution_count": 47,
   "id": "b7ccd062-d4c9-4b1b-ba04-a1654b0f300c",
   "metadata": {
    "tags": []
   },
   "outputs": [
    {
     "name": "stdout",
     "output_type": "stream",
     "text": [
      "                         Train Set                                  Test Set     \n",
      "[ 0  1  2  4  5  6  7  8  9 11 12 13 14 15 17 18 19 20 21 22 23] [ 3 10 16 24]\n",
      "[ 0  1  2  3  4  5  7  9 10 11 13 14 15 16 17 18 19 20 21 22 24] [ 6  8 12 23]\n",
      "[ 1  3  5  6  7  8  9 10 11 12 13 14 16 17 18 19 20 21 22 23 24] [ 0  2  4 15]\n",
      "[ 0  1  2  3  4  5  6  8  9 10 11 12 13 15 16 17 18 19 22 23 24] [ 7 14 20 21]\n",
      "[ 0  1  2  3  4  5  6  7  8  9 10 12 13 14 15 16 17 19 20 21 23 24] [11 18 22]\n",
      "[ 0  2  3  4  6  7  8  9 10 11 12 13 14 15 16 17 18 20 21 22 23 24] [ 1  5 19]\n",
      "[ 0  1  2  3  4  5  6  7  8 10 11 12 14 15 16 18 19 20 21 22 23 24] [ 9 13 17]\n"
     ]
    }
   ],
   "source": [
    "print(' '*25+'Train Set'+' '*34+'Test Set'+' '*5)\n",
    "for train_index, test_index in kf.split(np.random.randint(-50,150,25)):\n",
    "    print(train_index, test_index)"
   ]
  },
  {
   "cell_type": "markdown",
   "id": "2a66c6a4-8aac-423c-b4ab-a8f5b0170938",
   "metadata": {},
   "source": [
    "**Stratified K-Fold Cross Validation**"
   ]
  },
  {
   "cell_type": "code",
   "execution_count": 48,
   "id": "297ad33e-c2ac-47fe-b42e-15abd7030efa",
   "metadata": {
    "tags": []
   },
   "outputs": [],
   "source": [
    "from sklearn.model_selection import cross_val_score"
   ]
  },
  {
   "cell_type": "code",
   "execution_count": 53,
   "id": "f6599769-a6bd-4c2d-bf10-4c0e1c456bc8",
   "metadata": {
    "tags": []
   },
   "outputs": [
    {
     "data": {
      "text/plain": [
       "array([0.9484127 , 0.94444444, 0.97211155, 0.98804781, 0.98007968])"
      ]
     },
     "execution_count": 53,
     "metadata": {},
     "output_type": "execute_result"
    }
   ],
   "source": [
    "cross_val_score(RandomForestClassifier(n_estimators=37),X_train,y_train,cv=5)"
   ]
  },
  {
   "cell_type": "markdown",
   "id": "109152f0-07af-4ea0-8bec-a946d5349821",
   "metadata": {},
   "source": [
    "**Leave One Out Cross Validation**"
   ]
  },
  {
   "cell_type": "code",
   "execution_count": 54,
   "id": "79199029-bb76-49c0-8977-054cacee6873",
   "metadata": {
    "tags": []
   },
   "outputs": [],
   "source": [
    "from sklearn.model_selection import LeaveOneOut"
   ]
  },
  {
   "cell_type": "code",
   "execution_count": 55,
   "id": "a0f4a693-a30a-4d0a-960e-bd2b12ac992d",
   "metadata": {
    "tags": []
   },
   "outputs": [],
   "source": [
    "loo = LeaveOneOut()"
   ]
  },
  {
   "cell_type": "code",
   "execution_count": 67,
   "id": "3bb4baf1-556a-4cb1-846f-e22bd12c3ab8",
   "metadata": {
    "tags": []
   },
   "outputs": [
    {
     "name": "stdout",
     "output_type": "stream",
     "text": [
      "[1 2 3 4 5 6 7 8 9] [0]\n",
      "[0 2 3 4 5 6 7 8 9] [1]\n",
      "[0 1 3 4 5 6 7 8 9] [2]\n",
      "[0 1 2 4 5 6 7 8 9] [3]\n",
      "[0 1 2 3 5 6 7 8 9] [4]\n",
      "[0 1 2 3 4 6 7 8 9] [5]\n",
      "[0 1 2 3 4 5 7 8 9] [6]\n",
      "[0 1 2 3 4 5 6 8 9] [7]\n",
      "[0 1 2 3 4 5 6 7 9] [8]\n",
      "[0 1 2 3 4 5 6 7 8] [9]\n"
     ]
    }
   ],
   "source": [
    "for train_index, test_index in loo.split(np.random.randint(-50,150,10)):\n",
    "    print(train_index, test_index)"
   ]
  },
  {
   "cell_type": "code",
   "execution_count": null,
   "id": "0a57fd67-d0c2-4674-9e12-c30aa998509a",
   "metadata": {},
   "outputs": [],
   "source": []
  },
  {
   "cell_type": "code",
   "execution_count": null,
   "id": "03a23faa-a9f4-4856-a44c-c73b4cab85a4",
   "metadata": {},
   "outputs": [],
   "source": []
  }
 ],
 "metadata": {
  "kernelspec": {
   "display_name": "Python 3 (ipykernel)",
   "language": "python",
   "name": "python3"
  },
  "language_info": {
   "codemirror_mode": {
    "name": "ipython",
    "version": 3
   },
   "file_extension": ".py",
   "mimetype": "text/x-python",
   "name": "python",
   "nbconvert_exporter": "python",
   "pygments_lexer": "ipython3",
   "version": "3.11.5"
  }
 },
 "nbformat": 4,
 "nbformat_minor": 5
}
