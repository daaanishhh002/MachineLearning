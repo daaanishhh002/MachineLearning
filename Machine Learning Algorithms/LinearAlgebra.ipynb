{
 "cells": [
  {
   "cell_type": "markdown",
   "id": "11d52a70-5237-4358-a684-4bcad1e7196b",
   "metadata": {
    "tags": []
   },
   "source": [
    "# Linear Algebra\n",
    "\n",
    "Linear Algebra is a mathematical discipline that deals with vectors and matrices and, more generally, with vector spaces and linear transformations. It is the branch of mathematics concerning linear equations such as:\n",
    "$${\\displaystyle a_{1}x_{1}+\\cdots +a_{n}x_{n}=b,}$$\n",
    "linear maps such as,\n",
    "$${\\displaystyle (x_{1},\\ldots ,x_{n})\\mapsto a_{1}x_{1}+\\cdots +a_{n}x_{n},}$$\n",
    "and their representations in vector spaces and through matrices."
   ]
  },
  {
   "cell_type": "markdown",
   "id": "2d540eeb-a1b6-4cef-bc29-a6dd70723be5",
   "metadata": {},
   "source": [
    "The **physics student** perspective is that vectors are arrows pointing in space. What defines a given vector is its length and the direction it's pointing.  \n",
    "The **computer science perspective** is that vectors are ordered lists of numbers.  \n",
    "The **mathematician**, on the other hand, seeks to generalize both these views, basically saying that a vector can be anything where there's a sensible notion of adding two vectors and multiplying a vector by a number,"
   ]
  },
  {
   "cell_type": "code",
   "execution_count": null,
   "id": "3f06fb08-5730-4024-a894-90bfddbaa005",
   "metadata": {},
   "outputs": [],
   "source": []
  }
 ],
 "metadata": {
  "kernelspec": {
   "display_name": "Python 3 (ipykernel)",
   "language": "python",
   "name": "python3"
  },
  "language_info": {
   "codemirror_mode": {
    "name": "ipython",
    "version": 3
   },
   "file_extension": ".py",
   "mimetype": "text/x-python",
   "name": "python",
   "nbconvert_exporter": "python",
   "pygments_lexer": "ipython3",
   "version": "3.11.5"
  }
 },
 "nbformat": 4,
 "nbformat_minor": 5
}
