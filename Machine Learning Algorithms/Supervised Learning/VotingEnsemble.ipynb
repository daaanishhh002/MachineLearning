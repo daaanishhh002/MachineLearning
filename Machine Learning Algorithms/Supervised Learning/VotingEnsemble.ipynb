{
 "cells": [
  {
   "cell_type": "code",
   "execution_count": 2,
   "id": "bed33602-46ec-4977-aff1-43c23c316814",
   "metadata": {},
   "outputs": [],
   "source": [
    "import numpy as np\n",
    "import pandas as pd\n",
    "import matplotlib.pyplot as plt\n",
    "import seaborn as sns\n",
    "\n",
    "import warnings\n",
    "warnings.filterwarnings('ignore')"
   ]
  },
  {
   "cell_type": "markdown",
   "id": "bffe9c85-cc2f-437f-8493-2decb4ee02e2",
   "metadata": {},
   "source": [
    "## Voting Ensemble - Classification"
   ]
  },
  {
   "cell_type": "code",
   "execution_count": 49,
   "id": "57131bec-175a-45d4-806a-e84e3b698f7d",
   "metadata": {},
   "outputs": [
    {
     "data": {
      "text/html": [
       "<div>\n",
       "<style scoped>\n",
       "    .dataframe tbody tr th:only-of-type {\n",
       "        vertical-align: middle;\n",
       "    }\n",
       "\n",
       "    .dataframe tbody tr th {\n",
       "        vertical-align: top;\n",
       "    }\n",
       "\n",
       "    .dataframe thead th {\n",
       "        text-align: right;\n",
       "    }\n",
       "</style>\n",
       "<table border=\"1\" class=\"dataframe\">\n",
       "  <thead>\n",
       "    <tr style=\"text-align: right;\">\n",
       "      <th></th>\n",
       "      <th>sepal_length</th>\n",
       "      <th>sepal_width</th>\n",
       "      <th>species</th>\n",
       "    </tr>\n",
       "  </thead>\n",
       "  <tbody>\n",
       "    <tr>\n",
       "      <th>0</th>\n",
       "      <td>5.1</td>\n",
       "      <td>3.5</td>\n",
       "      <td>setosa</td>\n",
       "    </tr>\n",
       "    <tr>\n",
       "      <th>1</th>\n",
       "      <td>4.9</td>\n",
       "      <td>3.0</td>\n",
       "      <td>setosa</td>\n",
       "    </tr>\n",
       "    <tr>\n",
       "      <th>2</th>\n",
       "      <td>4.7</td>\n",
       "      <td>3.2</td>\n",
       "      <td>setosa</td>\n",
       "    </tr>\n",
       "    <tr>\n",
       "      <th>3</th>\n",
       "      <td>4.6</td>\n",
       "      <td>3.1</td>\n",
       "      <td>setosa</td>\n",
       "    </tr>\n",
       "    <tr>\n",
       "      <th>4</th>\n",
       "      <td>5.0</td>\n",
       "      <td>3.6</td>\n",
       "      <td>setosa</td>\n",
       "    </tr>\n",
       "  </tbody>\n",
       "</table>\n",
       "</div>"
      ],
      "text/plain": [
       "   sepal_length  sepal_width species\n",
       "0           5.1          3.5  setosa\n",
       "1           4.9          3.0  setosa\n",
       "2           4.7          3.2  setosa\n",
       "3           4.6          3.1  setosa\n",
       "4           5.0          3.6  setosa"
      ]
     },
     "execution_count": 49,
     "metadata": {},
     "output_type": "execute_result"
    }
   ],
   "source": [
    "df = sns.load_dataset('iris').drop(columns=['petal_length','petal_width'])\n",
    "df.head()"
   ]
  },
  {
   "cell_type": "code",
   "execution_count": 50,
   "id": "f75ffa61-c484-4470-9af0-3ab59bd60ccd",
   "metadata": {},
   "outputs": [
    {
     "data": {
      "text/html": [
       "<div>\n",
       "<style scoped>\n",
       "    .dataframe tbody tr th:only-of-type {\n",
       "        vertical-align: middle;\n",
       "    }\n",
       "\n",
       "    .dataframe tbody tr th {\n",
       "        vertical-align: top;\n",
       "    }\n",
       "\n",
       "    .dataframe thead th {\n",
       "        text-align: right;\n",
       "    }\n",
       "</style>\n",
       "<table border=\"1\" class=\"dataframe\">\n",
       "  <thead>\n",
       "    <tr style=\"text-align: right;\">\n",
       "      <th></th>\n",
       "      <th>sepal_length</th>\n",
       "      <th>sepal_width</th>\n",
       "      <th>species</th>\n",
       "    </tr>\n",
       "  </thead>\n",
       "  <tbody>\n",
       "    <tr>\n",
       "      <th>0</th>\n",
       "      <td>5.1</td>\n",
       "      <td>3.5</td>\n",
       "      <td>0</td>\n",
       "    </tr>\n",
       "    <tr>\n",
       "      <th>1</th>\n",
       "      <td>4.9</td>\n",
       "      <td>3.0</td>\n",
       "      <td>0</td>\n",
       "    </tr>\n",
       "    <tr>\n",
       "      <th>2</th>\n",
       "      <td>4.7</td>\n",
       "      <td>3.2</td>\n",
       "      <td>0</td>\n",
       "    </tr>\n",
       "    <tr>\n",
       "      <th>3</th>\n",
       "      <td>4.6</td>\n",
       "      <td>3.1</td>\n",
       "      <td>0</td>\n",
       "    </tr>\n",
       "    <tr>\n",
       "      <th>4</th>\n",
       "      <td>5.0</td>\n",
       "      <td>3.6</td>\n",
       "      <td>0</td>\n",
       "    </tr>\n",
       "  </tbody>\n",
       "</table>\n",
       "</div>"
      ],
      "text/plain": [
       "   sepal_length  sepal_width  species\n",
       "0           5.1          3.5        0\n",
       "1           4.9          3.0        0\n",
       "2           4.7          3.2        0\n",
       "3           4.6          3.1        0\n",
       "4           5.0          3.6        0"
      ]
     },
     "execution_count": 50,
     "metadata": {},
     "output_type": "execute_result"
    }
   ],
   "source": [
    "from sklearn.preprocessing import LabelEncoder\n",
    "le = LabelEncoder()\n",
    "\n",
    "df['species'] = le.fit_transform(df['species'])\n",
    "df.head()"
   ]
  },
  {
   "cell_type": "code",
   "execution_count": 51,
   "id": "79f6262f-5fef-46d8-8ef0-6ef248cc978f",
   "metadata": {
    "tags": []
   },
   "outputs": [],
   "source": [
    "X = df.iloc[:,:-1]\n",
    "y = df.iloc[:,-1]"
   ]
  },
  {
   "cell_type": "code",
   "execution_count": 52,
   "id": "0084e5f7-c0ce-4325-80b7-568e52ce7686",
   "metadata": {
    "tags": []
   },
   "outputs": [],
   "source": [
    "from sklearn.linear_model import LogisticRegression\n",
    "from sklearn.svm import SVC\n",
    "from sklearn.neighbors import KNeighborsClassifier\n",
    "from sklearn.ensemble import RandomForestClassifier\n",
    "\n",
    "from sklearn.model_selection import cross_val_score"
   ]
  },
  {
   "cell_type": "code",
   "execution_count": 53,
   "id": "bb57830e-5ac8-41fd-8a69-e452c2c94818",
   "metadata": {
    "tags": []
   },
   "outputs": [],
   "source": [
    "lgr = LogisticRegression()\n",
    "svc = SVC()\n",
    "knn = KNeighborsClassifier()\n",
    "rfc = RandomForestClassifier()\n",
    "\n",
    "estimators = [('lgr',lgr),('svc',lgr),('knn',knn),('rfc',rfc)]"
   ]
  },
  {
   "cell_type": "code",
   "execution_count": 54,
   "id": "2fe51ac9-dd3e-4fe8-9824-7b35c8dee47e",
   "metadata": {
    "tags": []
   },
   "outputs": [
    {
     "name": "stdout",
     "output_type": "stream",
     "text": [
      "lgr 0.81\n",
      "svc 0.81\n",
      "knn 0.76\n",
      "rfc 0.73\n"
     ]
    }
   ],
   "source": [
    "for estimator in estimators:\n",
    "    _ = cross_val_score(estimator[1],X,y,cv=10,scoring='accuracy')\n",
    "    print(estimator[0],np.round(np.mean(_),2))"
   ]
  },
  {
   "cell_type": "code",
   "execution_count": 55,
   "id": "e96905b9-c8af-463c-9fe0-9f1c4070c2a8",
   "metadata": {
    "tags": []
   },
   "outputs": [],
   "source": [
    "from sklearn.ensemble import VotingClassifier"
   ]
  },
  {
   "cell_type": "markdown",
   "id": "0a837680-5399-452a-8d87-d3d164b128fa",
   "metadata": {},
   "source": [
    "### Hard Voting"
   ]
  },
  {
   "cell_type": "code",
   "execution_count": 56,
   "id": "ed5c1f5b-da8c-4c6c-bff8-61986805107b",
   "metadata": {
    "tags": []
   },
   "outputs": [
    {
     "name": "stdout",
     "output_type": "stream",
     "text": [
      "0.79\n"
     ]
    }
   ],
   "source": [
    "vc_hard = VotingClassifier(estimators)\n",
    "_ = cross_val_score(vc_hard,X,y,cv=10,scoring='accuracy')\n",
    "print(np.round(np.mean(_),2))"
   ]
  },
  {
   "cell_type": "markdown",
   "id": "32c633a4-9817-48ac-9131-bca5a22b2e85",
   "metadata": {},
   "source": [
    "### Soft Voting"
   ]
  },
  {
   "cell_type": "code",
   "execution_count": 57,
   "id": "6769cccb-52df-4bdf-8dd1-f19e5b59e435",
   "metadata": {
    "tags": []
   },
   "outputs": [
    {
     "name": "stdout",
     "output_type": "stream",
     "text": [
      "0.79\n"
     ]
    }
   ],
   "source": [
    "vc_soft = VotingClassifier(estimators,voting='soft')\n",
    "_ = cross_val_score(vc_soft,X,y,cv=10,scoring='accuracy')\n",
    "print(np.round(np.mean(_),2))"
   ]
  },
  {
   "cell_type": "markdown",
   "id": "6f352c1f-fac7-499e-b947-d3b57b6efb19",
   "metadata": {
    "tags": []
   },
   "source": [
    "### Weighted Voting"
   ]
  },
  {
   "cell_type": "code",
   "execution_count": 58,
   "id": "bba90798-afeb-4fd4-b72c-ff7ca6bcfec7",
   "metadata": {
    "tags": []
   },
   "outputs": [
    {
     "name": "stdout",
     "output_type": "stream",
     "text": [
      "0.81\n"
     ]
    }
   ],
   "source": [
    "vc_weight = VotingClassifier(estimators,weights=[4,3,2,0])\n",
    "_ = cross_val_score(vc_weight,X,y,cv=10,scoring='accuracy')\n",
    "print(np.round(np.mean(_),2))"
   ]
  },
  {
   "cell_type": "markdown",
   "id": "8c918614-440d-4cc4-a784-cd0e34e6141d",
   "metadata": {},
   "source": [
    "### Hyperparameter Voting"
   ]
  },
  {
   "cell_type": "code",
   "execution_count": 59,
   "id": "ca991a7e-134f-4297-92be-76e6b2a91016",
   "metadata": {
    "tags": []
   },
   "outputs": [],
   "source": [
    "from sklearn.datasets import make_classification\n",
    "X, y = make_classification(n_samples=1000,n_features=20)\n",
    "\n",
    "svc1 = SVC(probability=True,kernel='poly',degree=1)\n",
    "svc2 = SVC(probability=True,kernel='poly',degree=2)\n",
    "svc3 = SVC(probability=True,kernel='poly',degree=3)\n",
    "svc4 = SVC(probability=True,kernel='poly',degree=4)\n",
    "svc5 = SVC(probability=True,kernel='poly',degree=5)\n",
    "\n",
    "estimators = [('svc1',svc1),('svc2',svc2),('svc3',svc3),\n",
    "              ('svc4',svc4),('svc5',svc5)]"
   ]
  },
  {
   "cell_type": "code",
   "execution_count": 60,
   "id": "b9b932ab-63df-41c1-9fcd-021044b6db85",
   "metadata": {
    "tags": []
   },
   "outputs": [
    {
     "name": "stdout",
     "output_type": "stream",
     "text": [
      "svc1 0.9\n",
      "svc2 0.51\n",
      "svc3 0.9\n",
      "svc4 0.52\n",
      "svc5 0.88\n"
     ]
    }
   ],
   "source": [
    "for estimator in estimators:\n",
    "    _ = cross_val_score(estimator[1],X,y,cv=10,scoring='accuracy')\n",
    "    print(estimator[0],np.round(np.mean(_),2))"
   ]
  },
  {
   "cell_type": "code",
   "execution_count": 61,
   "id": "203c91a6-03f2-4592-bd43-a07d02f1cdfd",
   "metadata": {
    "tags": []
   },
   "outputs": [
    {
     "name": "stdout",
     "output_type": "stream",
     "text": [
      "0.9\n"
     ]
    }
   ],
   "source": [
    "vc_tuned = VotingClassifier(estimators,voting='soft')\n",
    "_ = cross_val_score(vc_tuned,X,y,cv=10,scoring='accuracy')\n",
    "print(np.round(np.mean(_),2))"
   ]
  },
  {
   "cell_type": "markdown",
   "id": "51fcdaf6-d159-4a78-9e96-d82a78474d93",
   "metadata": {},
   "source": [
    "## Voting Ensemble - Regression"
   ]
  },
  {
   "cell_type": "code",
   "execution_count": 68,
   "id": "97c1be76-fc51-430a-a3bc-8d0ac05c9847",
   "metadata": {},
   "outputs": [
    {
     "data": {
      "text/html": [
       "<div>\n",
       "<style scoped>\n",
       "    .dataframe tbody tr th:only-of-type {\n",
       "        vertical-align: middle;\n",
       "    }\n",
       "\n",
       "    .dataframe tbody tr th {\n",
       "        vertical-align: top;\n",
       "    }\n",
       "\n",
       "    .dataframe thead th {\n",
       "        text-align: right;\n",
       "    }\n",
       "</style>\n",
       "<table border=\"1\" class=\"dataframe\">\n",
       "  <thead>\n",
       "    <tr style=\"text-align: right;\">\n",
       "      <th></th>\n",
       "      <th>MedInc</th>\n",
       "      <th>HouseAge</th>\n",
       "      <th>AveRooms</th>\n",
       "      <th>AveBedrms</th>\n",
       "      <th>Population</th>\n",
       "      <th>AveOccup</th>\n",
       "      <th>Latitude</th>\n",
       "      <th>Longitude</th>\n",
       "      <th>MedHouseVal</th>\n",
       "    </tr>\n",
       "  </thead>\n",
       "  <tbody>\n",
       "    <tr>\n",
       "      <th>0</th>\n",
       "      <td>8.3252</td>\n",
       "      <td>41.0</td>\n",
       "      <td>6.984127</td>\n",
       "      <td>1.023810</td>\n",
       "      <td>322.0</td>\n",
       "      <td>2.555556</td>\n",
       "      <td>37.88</td>\n",
       "      <td>-122.23</td>\n",
       "      <td>4.526</td>\n",
       "    </tr>\n",
       "    <tr>\n",
       "      <th>1</th>\n",
       "      <td>8.3014</td>\n",
       "      <td>21.0</td>\n",
       "      <td>6.238137</td>\n",
       "      <td>0.971880</td>\n",
       "      <td>2401.0</td>\n",
       "      <td>2.109842</td>\n",
       "      <td>37.86</td>\n",
       "      <td>-122.22</td>\n",
       "      <td>3.585</td>\n",
       "    </tr>\n",
       "    <tr>\n",
       "      <th>2</th>\n",
       "      <td>7.2574</td>\n",
       "      <td>52.0</td>\n",
       "      <td>8.288136</td>\n",
       "      <td>1.073446</td>\n",
       "      <td>496.0</td>\n",
       "      <td>2.802260</td>\n",
       "      <td>37.85</td>\n",
       "      <td>-122.24</td>\n",
       "      <td>3.521</td>\n",
       "    </tr>\n",
       "    <tr>\n",
       "      <th>3</th>\n",
       "      <td>5.6431</td>\n",
       "      <td>52.0</td>\n",
       "      <td>5.817352</td>\n",
       "      <td>1.073059</td>\n",
       "      <td>558.0</td>\n",
       "      <td>2.547945</td>\n",
       "      <td>37.85</td>\n",
       "      <td>-122.25</td>\n",
       "      <td>3.413</td>\n",
       "    </tr>\n",
       "    <tr>\n",
       "      <th>4</th>\n",
       "      <td>3.8462</td>\n",
       "      <td>52.0</td>\n",
       "      <td>6.281853</td>\n",
       "      <td>1.081081</td>\n",
       "      <td>565.0</td>\n",
       "      <td>2.181467</td>\n",
       "      <td>37.85</td>\n",
       "      <td>-122.25</td>\n",
       "      <td>3.422</td>\n",
       "    </tr>\n",
       "  </tbody>\n",
       "</table>\n",
       "</div>"
      ],
      "text/plain": [
       "   MedInc  HouseAge  AveRooms  AveBedrms  Population  AveOccup  Latitude  \\\n",
       "0  8.3252      41.0  6.984127   1.023810       322.0  2.555556     37.88   \n",
       "1  8.3014      21.0  6.238137   0.971880      2401.0  2.109842     37.86   \n",
       "2  7.2574      52.0  8.288136   1.073446       496.0  2.802260     37.85   \n",
       "3  5.6431      52.0  5.817352   1.073059       558.0  2.547945     37.85   \n",
       "4  3.8462      52.0  6.281853   1.081081       565.0  2.181467     37.85   \n",
       "\n",
       "   Longitude  MedHouseVal  \n",
       "0    -122.23        4.526  \n",
       "1    -122.22        3.585  \n",
       "2    -122.24        3.521  \n",
       "3    -122.25        3.413  \n",
       "4    -122.25        3.422  "
      ]
     },
     "execution_count": 68,
     "metadata": {},
     "output_type": "execute_result"
    }
   ],
   "source": [
    "from sklearn.datasets import fetch_california_housing\n",
    "data = fetch_california_housing(as_frame=True)\n",
    "\n",
    "df = pd.DataFrame(data.frame)\n",
    "df.head()"
   ]
  },
  {
   "cell_type": "code",
   "execution_count": 114,
   "id": "ed339e0a-6e1f-458a-bd9b-cec89f62e38b",
   "metadata": {
    "tags": []
   },
   "outputs": [],
   "source": [
    "X = df.iloc[:,:-1]\n",
    "y = df.iloc[:,-1]"
   ]
  },
  {
   "cell_type": "code",
   "execution_count": 118,
   "id": "359da0f2-7b23-4915-a309-b34d2be53e4d",
   "metadata": {},
   "outputs": [],
   "source": [
    "from sklearn.linear_model import LinearRegression,SGDRegressor\n",
    "from sklearn.tree import DecisionTreeRegressor\n",
    "from sklearn.neighbors import KNeighborsRegressor"
   ]
  },
  {
   "cell_type": "code",
   "execution_count": 128,
   "id": "396f9bee-840a-4609-b45e-75e7f43dfabe",
   "metadata": {},
   "outputs": [],
   "source": [
    "lnr = LinearRegression()\n",
    "knr = KNeighborsRegressor()\n",
    "dtr = DecisionTreeRegressor()\n",
    "\n",
    "estimators = [('lnr',lnr),('knr',knr),('dtr',dtr)]"
   ]
  },
  {
   "cell_type": "code",
   "execution_count": 120,
   "id": "0108ec07-6c55-446b-b67f-3e691cc50502",
   "metadata": {
    "tags": []
   },
   "outputs": [
    {
     "name": "stdout",
     "output_type": "stream",
     "text": [
      "lnr 0.51\n",
      "knr -0.14\n",
      "dtr 0.23\n"
     ]
    }
   ],
   "source": [
    "for estimator in estimators:\n",
    "    _ = cross_val_score(estimator[1],X,y,cv=10,scoring='r2')\n",
    "    print(estimator[0],np.round(np.mean(_),2))"
   ]
  },
  {
   "cell_type": "code",
   "execution_count": 121,
   "id": "47597401-02d1-4c74-a018-d41ab1261c19",
   "metadata": {
    "tags": []
   },
   "outputs": [],
   "source": [
    "from sklearn.ensemble import VotingRegressor"
   ]
  },
  {
   "cell_type": "code",
   "execution_count": 122,
   "id": "aaf82056-0efd-4d9e-a8b1-892930b48182",
   "metadata": {
    "tags": []
   },
   "outputs": [
    {
     "name": "stdout",
     "output_type": "stream",
     "text": [
      "0.48\n"
     ]
    }
   ],
   "source": [
    "vr = VotingRegressor(estimators=estimators)\n",
    "_ = cross_val_score(vr,X,y,cv=10,scoring='r2')\n",
    "print(np.round(np.mean(_),2))"
   ]
  },
  {
   "cell_type": "markdown",
   "id": "9453f873-ae89-43ea-a8ac-813721b96325",
   "metadata": {
    "tags": []
   },
   "source": [
    "### Weighted Voting"
   ]
  },
  {
   "cell_type": "code",
   "execution_count": 129,
   "id": "2cdbcc5e-d127-4a0b-b000-de261c8f92a8",
   "metadata": {
    "tags": []
   },
   "outputs": [
    {
     "name": "stdout",
     "output_type": "stream",
     "text": [
      "0.54\n"
     ]
    }
   ],
   "source": [
    "vc_weight = VotingRegressor(estimators,weights=[10,1,10])\n",
    "_ = cross_val_score(vc_weight,X,y,cv=10,scoring='r2')\n",
    "print(np.round(np.mean(_),2))"
   ]
  },
  {
   "cell_type": "markdown",
   "id": "b81bb75d-e12f-4c10-8c3e-053a4175ee83",
   "metadata": {},
   "source": [
    "### Hyperparameter Voting"
   ]
  },
  {
   "cell_type": "code",
   "execution_count": 124,
   "id": "3d31f760-908c-4028-bc82-87f3e22e726c",
   "metadata": {
    "tags": []
   },
   "outputs": [],
   "source": [
    "dtr1 = DecisionTreeRegressor(max_depth=1)\n",
    "dtr2 = DecisionTreeRegressor(max_depth=3)\n",
    "dtr3 = DecisionTreeRegressor(max_depth=5)\n",
    "dtr4 = DecisionTreeRegressor(max_depth=7)\n",
    "dtr5 = DecisionTreeRegressor(max_depth=None)\n",
    "\n",
    "estimators = [('dtr1',dtr1),('dtr2',dtr2),('dtr3',dtr3),\n",
    "              ('dtr4',dtr4),('dtr5',dtr5)]"
   ]
  },
  {
   "cell_type": "code",
   "execution_count": 125,
   "id": "fb42288d-9586-40a9-9497-540146ecc948",
   "metadata": {
    "tags": []
   },
   "outputs": [
    {
     "name": "stdout",
     "output_type": "stream",
     "text": [
      "dtr1 0.13\n",
      "dtr2 0.36\n",
      "dtr3 0.43\n",
      "dtr4 0.47\n",
      "dtr5 0.23\n"
     ]
    }
   ],
   "source": [
    "for estimator in estimators:\n",
    "    _ = cross_val_score(estimator[1],X,y,cv=10,scoring='r2')\n",
    "    print(estimator[0],np.round(np.mean(_),2))"
   ]
  },
  {
   "cell_type": "code",
   "execution_count": 126,
   "id": "5596ddf2-e89b-498b-98de-fd93038d71d2",
   "metadata": {
    "tags": []
   },
   "outputs": [
    {
     "name": "stdout",
     "output_type": "stream",
     "text": [
      "0.5\n"
     ]
    }
   ],
   "source": [
    "vc_tuned = VotingRegressor(estimators)\n",
    "_ = cross_val_score(vc_tuned,X,y,cv=10,scoring='r2')\n",
    "print(np.round(np.mean(_),2))"
   ]
  },
  {
   "cell_type": "code",
   "execution_count": null,
   "id": "c7443d7e-d7cf-454e-be4f-5c1eda2eefc9",
   "metadata": {},
   "outputs": [],
   "source": []
  }
 ],
 "metadata": {
  "kernelspec": {
   "display_name": "Python 3 (ipykernel)",
   "language": "python",
   "name": "python3"
  },
  "language_info": {
   "codemirror_mode": {
    "name": "ipython",
    "version": 3
   },
   "file_extension": ".py",
   "mimetype": "text/x-python",
   "name": "python",
   "nbconvert_exporter": "python",
   "pygments_lexer": "ipython3",
   "version": "3.11.5"
  }
 },
 "nbformat": 4,
 "nbformat_minor": 5
}
