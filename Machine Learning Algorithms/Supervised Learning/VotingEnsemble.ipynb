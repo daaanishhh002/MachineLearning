{
 "cells": [
  {
   "cell_type": "markdown",
   "id": "bffe9c85-cc2f-437f-8493-2decb4ee02e2",
   "metadata": {},
   "source": [
    "## Voting Ensemble - Classification"
   ]
  },
  {
   "cell_type": "code",
   "execution_count": null,
   "id": "bed33602-46ec-4977-aff1-43c23c316814",
   "metadata": {},
   "outputs": [],
   "source": []
  },
  {
   "cell_type": "code",
   "execution_count": null,
   "id": "57131bec-175a-45d4-806a-e84e3b698f7d",
   "metadata": {},
   "outputs": [],
   "source": []
  },
  {
   "cell_type": "code",
   "execution_count": null,
   "id": "f75ffa61-c484-4470-9af0-3ab59bd60ccd",
   "metadata": {},
   "outputs": [],
   "source": []
  },
  {
   "cell_type": "markdown",
   "id": "51fcdaf6-d159-4a78-9e96-d82a78474d93",
   "metadata": {},
   "source": [
    "## Voting Ensemble - Regression"
   ]
  },
  {
   "cell_type": "code",
   "execution_count": null,
   "id": "97c1be76-fc51-430a-a3bc-8d0ac05c9847",
   "metadata": {},
   "outputs": [],
   "source": []
  },
  {
   "cell_type": "code",
   "execution_count": null,
   "id": "359da0f2-7b23-4915-a309-b34d2be53e4d",
   "metadata": {},
   "outputs": [],
   "source": []
  },
  {
   "cell_type": "code",
   "execution_count": null,
   "id": "396f9bee-840a-4609-b45e-75e7f43dfabe",
   "metadata": {},
   "outputs": [],
   "source": []
  }
 ],
 "metadata": {
  "kernelspec": {
   "display_name": "Python 3 (ipykernel)",
   "language": "python",
   "name": "python3"
  },
  "language_info": {
   "codemirror_mode": {
    "name": "ipython",
    "version": 3
   },
   "file_extension": ".py",
   "mimetype": "text/x-python",
   "name": "python",
   "nbconvert_exporter": "python",
   "pygments_lexer": "ipython3",
   "version": "3.11.5"
  }
 },
 "nbformat": 4,
 "nbformat_minor": 5
}
