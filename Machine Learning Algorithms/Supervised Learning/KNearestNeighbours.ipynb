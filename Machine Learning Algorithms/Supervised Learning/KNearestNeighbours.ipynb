{
 "cells": [
  {
   "cell_type": "code",
   "execution_count": 1,
   "id": "20e1f225-47fe-46eb-81a2-98e93435922b",
   "metadata": {
    "tags": []
   },
   "outputs": [],
   "source": [
    "import numpy as np\n",
    "import pandas as pd\n",
    "import matplotlib.pyplot as plt\n",
    "\n",
    "import warnings\n",
    "warnings.filterwarnings('ignore')"
   ]
  },
  {
   "cell_type": "markdown",
   "id": "473a1617-a1a6-4a41-837c-f4027e345ae3",
   "metadata": {
    "tags": []
   },
   "source": [
    "# K Nearest Neighbours\n",
    "\n",
    "It is a simple and intuitive machine learning algorithm used for both classification and regression tasks. It makes predictions based on the majority class (for classification) or the average value (for regression) of the k-nearest data points in the feature space. The *k* in KNN represents the number of nearest neighbors to consider, and predictions are made based on the labels or values of these neighbors.\n",
    "\n",
    "[StatQuest: K-nearest neighbors, Clearly Explained](https://youtu.be/HVXime0nQeI?si=7lxurXSWOxKCi5aZ)"
   ]
  },
  {
   "cell_type": "markdown",
   "id": "14685506-2aec-47cc-bdb1-f4dc1be81c6d",
   "metadata": {},
   "source": [
    "![knn|650](https://media.geeksforgeeks.org/wp-content/uploads/20231207103856/KNN-Algorithm-(1).png)"
   ]
  },
  {
   "cell_type": "markdown",
   "id": "78ea0cae-70cb-4a61-a099-d3af48ed4fe2",
   "metadata": {
    "tags": [],
    "toc-hr-collapsed": true
   },
   "source": [
    "## Algorithm\n",
    "\n",
    "1. **Load Data**: Load the dataset containing labeled data points.\n",
    "\n",
    "2. **Choose K**: Determine the value of *k*, the number of nearest neighbors to consider.\n",
    "\n",
    "3. **Calculate Distance**: Compute the distance between the query point (the point for which you want to make a prediction) and all other points in the dataset. The most common distance metric used is Euclidean distance, but other metrics like Manhattan distance or cosine similarity can be used based on the data.\n",
    "\n",
    "4. **Find Neighbors**: Identify the *k* data points (neighbors) with the smallest distances to the query point. These are the nearest neighbors.\n",
    "\n",
    "5. **Make Prediction**: For classification tasks, assign the label of the majority class among the *k* nearest neighbors to the query point. For regression tasks, predict the average of the target values of the *k* nearest neighbors.\n",
    "\n",
    "6. **Return Prediction**: Return the predicted class label (for classification) or numerical value (for regression) as the final prediction for the query point."
   ]
  },
  {
   "cell_type": "markdown",
   "id": "b916d12d-95d7-4ad3-8945-fa7510fc75fe",
   "metadata": {},
   "source": [
    "[KNN Classification & Regression in Python](https://youtu.be/0RwM2BaLNkE?si=0bCD8dk9_s8cBW0O)"
   ]
  },
  {
   "cell_type": "code",
   "execution_count": 2,
   "id": "a7ab5096-57eb-4e03-9e67-21ddb4750f84",
   "metadata": {
    "tags": []
   },
   "outputs": [
    {
     "data": {
      "text/html": [
       "<div>\n",
       "<style scoped>\n",
       "    .dataframe tbody tr th:only-of-type {\n",
       "        vertical-align: middle;\n",
       "    }\n",
       "\n",
       "    .dataframe tbody tr th {\n",
       "        vertical-align: top;\n",
       "    }\n",
       "\n",
       "    .dataframe thead th {\n",
       "        text-align: right;\n",
       "    }\n",
       "</style>\n",
       "<table border=\"1\" class=\"dataframe\">\n",
       "  <thead>\n",
       "    <tr style=\"text-align: right;\">\n",
       "      <th></th>\n",
       "      <th>Pregnancies</th>\n",
       "      <th>Glucose</th>\n",
       "      <th>BloodPressure</th>\n",
       "      <th>SkinThickness</th>\n",
       "      <th>Insulin</th>\n",
       "      <th>BMI</th>\n",
       "      <th>DiabetesPedigreeFunction</th>\n",
       "      <th>Age</th>\n",
       "      <th>Outcome</th>\n",
       "    </tr>\n",
       "  </thead>\n",
       "  <tbody>\n",
       "    <tr>\n",
       "      <th>41</th>\n",
       "      <td>7</td>\n",
       "      <td>133</td>\n",
       "      <td>84</td>\n",
       "      <td>0</td>\n",
       "      <td>0</td>\n",
       "      <td>40.2</td>\n",
       "      <td>0.696</td>\n",
       "      <td>37</td>\n",
       "      <td>0</td>\n",
       "    </tr>\n",
       "    <tr>\n",
       "      <th>148</th>\n",
       "      <td>5</td>\n",
       "      <td>147</td>\n",
       "      <td>78</td>\n",
       "      <td>0</td>\n",
       "      <td>0</td>\n",
       "      <td>33.7</td>\n",
       "      <td>0.218</td>\n",
       "      <td>65</td>\n",
       "      <td>0</td>\n",
       "    </tr>\n",
       "    <tr>\n",
       "      <th>481</th>\n",
       "      <td>0</td>\n",
       "      <td>123</td>\n",
       "      <td>88</td>\n",
       "      <td>37</td>\n",
       "      <td>0</td>\n",
       "      <td>35.2</td>\n",
       "      <td>0.197</td>\n",
       "      <td>29</td>\n",
       "      <td>0</td>\n",
       "    </tr>\n",
       "    <tr>\n",
       "      <th>381</th>\n",
       "      <td>0</td>\n",
       "      <td>105</td>\n",
       "      <td>68</td>\n",
       "      <td>22</td>\n",
       "      <td>0</td>\n",
       "      <td>20.0</td>\n",
       "      <td>0.236</td>\n",
       "      <td>22</td>\n",
       "      <td>0</td>\n",
       "    </tr>\n",
       "    <tr>\n",
       "      <th>734</th>\n",
       "      <td>2</td>\n",
       "      <td>105</td>\n",
       "      <td>75</td>\n",
       "      <td>0</td>\n",
       "      <td>0</td>\n",
       "      <td>23.3</td>\n",
       "      <td>0.560</td>\n",
       "      <td>53</td>\n",
       "      <td>0</td>\n",
       "    </tr>\n",
       "  </tbody>\n",
       "</table>\n",
       "</div>"
      ],
      "text/plain": [
       "     Pregnancies  Glucose  BloodPressure  SkinThickness  Insulin   BMI  \\\n",
       "41             7      133             84              0        0  40.2   \n",
       "148            5      147             78              0        0  33.7   \n",
       "481            0      123             88             37        0  35.2   \n",
       "381            0      105             68             22        0  20.0   \n",
       "734            2      105             75              0        0  23.3   \n",
       "\n",
       "     DiabetesPedigreeFunction  Age  Outcome  \n",
       "41                      0.696   37        0  \n",
       "148                     0.218   65        0  \n",
       "481                     0.197   29        0  \n",
       "381                     0.236   22        0  \n",
       "734                     0.560   53        0  "
      ]
     },
     "execution_count": 2,
     "metadata": {},
     "output_type": "execute_result"
    }
   ],
   "source": [
    "link = 'https://raw.githubusercontent.com/daaanishhh002/MachineLearning/main/Datasets/diabetes.csv'\n",
    "df = pd.read_csv(link)\n",
    "\n",
    "df.sample(5)"
   ]
  },
  {
   "cell_type": "code",
   "execution_count": 3,
   "id": "f134cb29-30dc-4c20-aae7-278fa56506cc",
   "metadata": {
    "tags": []
   },
   "outputs": [],
   "source": [
    "from sklearn.model_selection import train_test_split\n",
    "X_train,X_test,y_train,y_test = train_test_split(df.iloc[:,:-1],df.iloc[:,-1],test_size=0.3,random_state=2002)"
   ]
  },
  {
   "cell_type": "markdown",
   "id": "6c4b917e-9c5f-4379-a76c-d8ea2974ac65",
   "metadata": {},
   "source": [
    "**Scaling is Necessary**"
   ]
  },
  {
   "cell_type": "code",
   "execution_count": 4,
   "id": "2957c661-36c4-4cb2-b682-ef4b64410f69",
   "metadata": {
    "tags": []
   },
   "outputs": [],
   "source": [
    "from sklearn.preprocessing import StandardScaler\n",
    "scaler = StandardScaler()\n",
    "\n",
    "X_train = scaler.fit_transform(X_train)\n",
    "X_test = scaler.transform(X_test)"
   ]
  },
  {
   "cell_type": "code",
   "execution_count": 5,
   "id": "e253f020-f774-45b5-b6c2-a7d764840e5e",
   "metadata": {
    "tags": []
   },
   "outputs": [
    {
     "data": {
      "text/plain": [
       "0.7532467532467533"
      ]
     },
     "execution_count": 5,
     "metadata": {},
     "output_type": "execute_result"
    }
   ],
   "source": [
    "from sklearn.neighbors import KNeighborsClassifier\n",
    "knn = KNeighborsClassifier()\n",
    "\n",
    "knn.fit(X_train,y_train)\n",
    "knn.score(X_test,y_test)"
   ]
  },
  {
   "cell_type": "code",
   "execution_count": 6,
   "id": "4f75ea8f-edf9-4dba-87f5-daf161d60dc4",
   "metadata": {
    "tags": []
   },
   "outputs": [
    {
     "data": {
      "text/plain": [
       "27.712812921102035"
      ]
     },
     "execution_count": 6,
     "metadata": {},
     "output_type": "execute_result"
    }
   ],
   "source": [
    "# finding optimal number of k\n",
    "np.sqrt(df.shape[0])"
   ]
  },
  {
   "cell_type": "code",
   "execution_count": 9,
   "id": "8fc07f52-a29d-4a9d-8d70-a265eecd3d25",
   "metadata": {
    "tags": []
   },
   "outputs": [
    {
     "data": {
      "image/png": "[encoded data removed]",
      "text/plain": [
       "<Figure size 640x480 with 1 Axes>"
      ]
     },
     "metadata": {},
     "output_type": "display_data"
    }
   ],
   "source": [
    "scores = [0]\n",
    "\n",
    "for i in range(1,28):\n",
    "    knn = KNeighborsClassifier(n_neighbors=i)\n",
    "    \n",
    "    knn.fit(X_train,y_train)\n",
    "    scores.append(knn.score(X_test,y_test))\n",
    "\n",
    "plt.plot(scores);"
   ]
  },
  {
   "cell_type": "code",
   "execution_count": 10,
   "id": "9329697f-58b7-4bfa-add7-bf9794d6460c",
   "metadata": {},
   "outputs": [
    {
     "data": {
      "text/plain": [
       "0.8008658008658008"
      ]
     },
     "execution_count": 10,
     "metadata": {},
     "output_type": "execute_result"
    }
   ],
   "source": [
    "knn = KNeighborsClassifier(n_neighbors=15)\n",
    "\n",
    "knn.fit(X_train,y_train)\n",
    "knn.score(X_test,y_test)"
   ]
  },
  {
   "cell_type": "markdown",
   "id": "2378a44f-4c5f-4925-a592-d30d73a5505d",
   "metadata": {
    "tags": [],
    "toc-hr-collapsed": true
   },
   "source": [
    "## Decision Boundary and Effect of *k*\n",
    "\n",
    "- When *k* is small, the model is overfit\n",
    "- When *k* is high, the model is underfit"
   ]
  },
  {
   "cell_type": "markdown",
   "id": "d4d36bb2-2cb9-48da-b0e8-3fa7bde923a5",
   "metadata": {},
   "source": [
    "![Decision Boundary|650](https://i0.wp.com/neptune.ai/wp-content/uploads/2022/10/KNN-diagram.png?resize=840%2C407&ssl=1)"
   ]
  },
  {
   "cell_type": "markdown",
   "id": "8952e397-1594-450d-9715-b05c55314e2b",
   "metadata": {
    "tags": []
   },
   "source": [
    "### Plotting Decision Boundary\n",
    "\n",
    "[KNN Visualisation in Few Lines](https://towardsdatascience.com/knn-visualization-in-just-13-lines-of-code-32820d72c6b6)"
   ]
  },
  {
   "cell_type": "code",
   "execution_count": 11,
   "id": "296adc76-6424-40d9-861c-727d419c8830",
   "metadata": {
    "tags": []
   },
   "outputs": [],
   "source": [
    "import numpy as np\n",
    "import matplotlib.pyplot as plt\n",
    "from matplotlib.colors import ListedColormap\n",
    "from sklearn import neighbors, datasets\n",
    "from sklearn.preprocessing import StandardScaler\n",
    "from ipywidgets import interact, fixed"
   ]
  },
  {
   "cell_type": "code",
   "execution_count": 12,
   "id": "e344e9cb-190b-48f9-85d2-1d7bbde35816",
   "metadata": {
    "tags": []
   },
   "outputs": [],
   "source": [
    "def load_data():\n",
    "    cancer = datasets.load_breast_cancer()\n",
    "    return cancer"
   ]
  },
  {
   "cell_type": "code",
   "execution_count": 13,
   "id": "a7829a72-806b-42ce-a621-6a37b4036d52",
   "metadata": {
    "tags": []
   },
   "outputs": [],
   "source": [
    "def plot_decision_boundaries(n_neighbors, data, labels):\n",
    "    h = .02\n",
    "    cmap_light = ListedColormap(['orange', 'blue'])\n",
    "    cmap_bold = ListedColormap(['darkorange', 'darkblue'])\n",
    "\n",
    "    clf = neighbors.KNeighborsClassifier(n_neighbors)\n",
    "    clf.fit(data, labels)\n",
    "\n",
    "    x_min, x_max = data[:, 0].min() - 1, data[:, 0].max() + 1\n",
    "    y_min, y_max = data[:, 1].min() - 1, data[:, 1].max() + 1\n",
    "\n",
    "    xx, yy = np.meshgrid(np.arange(x_min, x_max, h), np.arange(y_min, y_max, h))\n",
    "    Z = clf.predict(np.c_[xx.ravel(), yy.ravel()])\n",
    "\n",
    "    Z = Z.reshape(xx.shape)\n",
    "    plt.figure(figsize=(8, 6))\n",
    "    plt.pcolormesh(xx, yy, Z, cmap=cmap_light)\n",
    "\n",
    "    plt.scatter(data[:, 0], data[:, 1], c=labels, cmap=cmap_bold, edgecolor='k', s=20)\n",
    "    plt.xlim(xx.min(), xx.max())\n",
    "    plt.ylim(yy.min(), yy.max())\n",
    "    plt.title(f'2-Class classification (k = {n_neighbors})')\n",
    "    plt.show()"
   ]
  },
  {
   "cell_type": "code",
   "execution_count": 14,
   "id": "810a029a-c6d6-47ac-823c-76cf51aa54b2",
   "metadata": {
    "tags": []
   },
   "outputs": [],
   "source": [
    "cancer = load_data()\n",
    "\n",
    "# Use only the first two features and standardize them.\n",
    "X = StandardScaler().fit_transform(cancer.data[:, :2])\n",
    "y = cancer.target"
   ]
  },
  {
   "cell_type": "code",
   "execution_count": 15,
   "id": "01e63eaa-3a0a-495f-8e51-6eca2ed8330d",
   "metadata": {
    "tags": []
   },
   "outputs": [
    {
     "data": {
      "application/vnd.jupyter.widget-view+json": {
       "model_id": "d42298e006c14f1f9a346494443ef80c",
       "version_major": 2,
       "version_minor": 0
      },
      "text/plain": [
       "interactive(children=(IntSlider(value=10, description='n_neighbors', max=20, min=1), Output()), _dom_classes=(…"
      ]
     },
     "metadata": {},
     "output_type": "display_data"
    }
   ],
   "source": [
    "# Interactive widget\n",
    "interact(plot_decision_boundaries, n_neighbors=(1, 20), data=fixed(X), labels=fixed(y));"
   ]
  },
  {
   "cell_type": "markdown",
   "id": "6d8487c4-06a4-409d-9fb2-d941fe09d642",
   "metadata": {
    "toc-hr-collapsed": true
   },
   "source": [
    "## Flaws of K Nearest Neighbours\n",
    "\n",
    "- Doesn't work well on imbalanced datasets.\n",
    "- Isn't robust to outliers.\n",
    "- Isn't reliable in higher dimensions.\n",
    "- Doesn't tell which feature is more important.\n",
    "- Features are non-homogenous."
   ]
  },
  {
   "cell_type": "code",
   "execution_count": null,
   "id": "3c42a96c-33ee-4027-8502-5d2a45d8eb25",
   "metadata": {},
   "outputs": [],
   "source": []
  }
 ],
 "metadata": {
  "kernelspec": {
   "display_name": "Python 3 (ipykernel)",
   "language": "python",
   "name": "python3"
  },
  "language_info": {
   "codemirror_mode": {
    "name": "ipython",
    "version": 3
   },
   "file_extension": ".py",
   "mimetype": "text/x-python",
   "name": "python",
   "nbconvert_exporter": "python",
   "pygments_lexer": "ipython3",
   "version": "3.11.5"
  }
 },
 "nbformat": 4,
 "nbformat_minor": 5
}
