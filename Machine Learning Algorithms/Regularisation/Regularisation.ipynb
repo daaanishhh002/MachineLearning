{
 "cells": [
  {
   "cell_type": "markdown",
   "id": "d7a84fc8-ffcc-4e2b-b291-bb63d44029de",
   "metadata": {},
   "source": [
    "https://www.youtube.com/playlist?list=PLKnIA16_RmvZuSEZ24Wlm13QpsfLlJBM4"
   ]
  },
  {
   "cell_type": "code",
   "execution_count": null,
   "id": "82af54bd-5156-4ce4-b2a7-0661caa581ed",
   "metadata": {},
   "outputs": [],
   "source": []
  }
 ],
 "metadata": {
  "kernelspec": {
   "display_name": "Python 3 (ipykernel)",
   "language": "python",
   "name": "python3"
  },
  "language_info": {
   "codemirror_mode": {
    "name": "ipython",
    "version": 3
   },
   "file_extension": ".py",
   "mimetype": "text/x-python",
   "name": "python",
   "nbconvert_exporter": "python",
   "pygments_lexer": "ipython3",
   "version": "3.11.5"
  }
 },
 "nbformat": 4,
 "nbformat_minor": 5
}
