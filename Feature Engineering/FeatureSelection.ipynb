{
 "cells": [
  {
   "cell_type": "markdown",
   "id": "067cfc84-1d5d-460c-bdd4-faa751bd7543",
   "metadata": {},
   "source": [
    " # Feature Selection\n",
    " \n",
    " 1. Feature selection using SelectKBest and Recursive Feature Elimination - https://www.youtube.com/watch?v=xlHk4okO8Ls&t=1s\n",
    " 2. Chi-squared Feature Selection - https://www.youtube.com/watch?v=fMIwIKLGke0\n",
    " 3. Backward Feature Elimination - https://www.youtube.com/watch?v=zW1SvA0Z-l4&t=2s\n",
    " 4. Dropping features using Pearson correlation coefficient - https://www.youtube.com/watch?v=FndwYNcVe0U\n",
    " 5. Feature Importance using Random Forest - https://www.youtube.com/watch?v=R47JAob1xBY\n",
    " 6. Feature Selection Advise - https://www.youtube.com/watch?v=YaKMeAlHgqQ"
   ]
  },
  {
   "cell_type": "code",
   "execution_count": null,
   "id": "be0683ab-dfcf-4ad2-8d20-b674efbf0fe6",
   "metadata": {},
   "outputs": [],
   "source": []
  }
 ],
 "metadata": {
  "kernelspec": {
   "display_name": "Python 3 (ipykernel)",
   "language": "python",
   "name": "python3"
  },
  "language_info": {
   "codemirror_mode": {
    "name": "ipython",
    "version": 3
   },
   "file_extension": ".py",
   "mimetype": "text/x-python",
   "name": "python",
   "nbconvert_exporter": "python",
   "pygments_lexer": "ipython3",
   "version": "3.11.5"
  }
 },
 "nbformat": 4,
 "nbformat_minor": 5
}
