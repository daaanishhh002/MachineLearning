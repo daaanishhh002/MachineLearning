{
 "cells": [
  {
   "cell_type": "code",
   "execution_count": null,
   "id": "0bc2f0fd-dfd7-4e5d-b61b-63469b111615",
   "metadata": {},
   "outputs": [],
   "source": []
  },
  {
   "cell_type": "markdown",
   "id": "c335e9b7-2034-4c82-ada4-2e12385a33ea",
   "metadata": {
    "tags": []
   },
   "source": [
    "# Column Transformer\n",
    "\n",
    "It is a powerful tool for applying different transformations to different columns of your dataset within a single pipeline."
   ]
  },
  {
   "cell_type": "code",
   "execution_count": 133,
   "id": "4685c83e-add7-4136-b825-12d7392f9b3d",
   "metadata": {
    "tags": []
   },
   "outputs": [],
   "source": [
    "from sklearn.impute import SimpleImputer\n",
    "from sklearn.preprocessing import OrdinalEncoder\n",
    "from sklearn.preprocessing import OneHotEncoder\n",
    "from sklearn.preprocessing import LabelEncoder"
   ]
  },
  {
   "cell_type": "code",
   "execution_count": 134,
   "id": "6847f5fa-555f-459d-bcab-548ba8a5a898",
   "metadata": {
    "tags": []
   },
   "outputs": [
    {
     "data": {
      "text/html": [
       "<div>\n",
       "<style scoped>\n",
       "    .dataframe tbody tr th:only-of-type {\n",
       "        vertical-align: middle;\n",
       "    }\n",
       "\n",
       "    .dataframe tbody tr th {\n",
       "        vertical-align: top;\n",
       "    }\n",
       "\n",
       "    .dataframe thead th {\n",
       "        text-align: right;\n",
       "    }\n",
       "</style>\n",
       "<table border=\"1\" class=\"dataframe\">\n",
       "  <thead>\n",
       "    <tr style=\"text-align: right;\">\n",
       "      <th></th>\n",
       "      <th>age</th>\n",
       "      <th>gender</th>\n",
       "      <th>fever</th>\n",
       "      <th>cough</th>\n",
       "      <th>city</th>\n",
       "      <th>has_covid</th>\n",
       "    </tr>\n",
       "  </thead>\n",
       "  <tbody>\n",
       "    <tr>\n",
       "      <th>29</th>\n",
       "      <td>34</td>\n",
       "      <td>Female</td>\n",
       "      <td>NaN</td>\n",
       "      <td>Strong</td>\n",
       "      <td>Mumbai</td>\n",
       "      <td>Yes</td>\n",
       "    </tr>\n",
       "    <tr>\n",
       "      <th>61</th>\n",
       "      <td>81</td>\n",
       "      <td>Female</td>\n",
       "      <td>98.0</td>\n",
       "      <td>Strong</td>\n",
       "      <td>Mumbai</td>\n",
       "      <td>No</td>\n",
       "    </tr>\n",
       "    <tr>\n",
       "      <th>87</th>\n",
       "      <td>47</td>\n",
       "      <td>Male</td>\n",
       "      <td>101.0</td>\n",
       "      <td>Strong</td>\n",
       "      <td>Bangalore</td>\n",
       "      <td>No</td>\n",
       "    </tr>\n",
       "    <tr>\n",
       "      <th>34</th>\n",
       "      <td>74</td>\n",
       "      <td>Male</td>\n",
       "      <td>102.0</td>\n",
       "      <td>Mild</td>\n",
       "      <td>Mumbai</td>\n",
       "      <td>Yes</td>\n",
       "    </tr>\n",
       "    <tr>\n",
       "      <th>51</th>\n",
       "      <td>11</td>\n",
       "      <td>Female</td>\n",
       "      <td>100.0</td>\n",
       "      <td>Strong</td>\n",
       "      <td>Kolkata</td>\n",
       "      <td>Yes</td>\n",
       "    </tr>\n",
       "  </tbody>\n",
       "</table>\n",
       "</div>"
      ],
      "text/plain": [
       "    age  gender  fever   cough       city has_covid\n",
       "29   34  Female    NaN  Strong     Mumbai       Yes\n",
       "61   81  Female   98.0  Strong     Mumbai        No\n",
       "87   47    Male  101.0  Strong  Bangalore        No\n",
       "34   74    Male  102.0    Mild     Mumbai       Yes\n",
       "51   11  Female  100.0  Strong    Kolkata       Yes"
      ]
     },
     "execution_count": 134,
     "metadata": {},
     "output_type": "execute_result"
    }
   ],
   "source": [
    "link = 'https://raw.githubusercontent.com/campusx-official/100-days-of-machine-learning/main/day28-column-transformer/covid_toy.csv'\n",
    "df = pd.read_csv(link)\n",
    "\n",
    "df.sample(5)"
   ]
  },
  {
   "cell_type": "code",
   "execution_count": 135,
   "id": "ca20697b-9338-4664-9859-284ac9dde76a",
   "metadata": {
    "tags": []
   },
   "outputs": [],
   "source": [
    "from sklearn.model_selection import train_test_split\n",
    "X_train,X_test,y_train,y_test = train_test_split(df.iloc[:,:5],df.iloc[:,-1],test_size=0.3,random_state=2002)"
   ]
  },
  {
   "cell_type": "code",
   "execution_count": 138,
   "id": "bf9892c9-a838-41fb-ac33-62ccc020e75c",
   "metadata": {
    "tags": []
   },
   "outputs": [],
   "source": [
    "from sklearn.compose import ColumnTransformer\n",
    "\n",
    "trfr = ColumnTransformer(transformers=[\n",
    "    ('tf1',SimpleImputer(),['fever']),\n",
    "    ('tf2',OrdinalEncoder(categories=[['Mild','Strong']]),['cough']),\n",
    "    ('tf3',OneHotEncoder(sparse_output=False,drop='first'),['gender','city']),\n",
    "],remainder='passthrough')"
   ]
  },
  {
   "cell_type": "code",
   "execution_count": 140,
   "id": "31bc4828-3303-4542-94e8-029d44d8aaaf",
   "metadata": {
    "tags": []
   },
   "outputs": [
    {
     "data": {
      "text/plain": [
       "(70, 7)"
      ]
     },
     "execution_count": 140,
     "metadata": {},
     "output_type": "execute_result"
    }
   ],
   "source": [
    "trfr.fit_transform(X_train).shape"
   ]
  },
  {
   "cell_type": "markdown",
   "id": "7d061b62-3802-486f-aa02-ceff31652fef",
   "metadata": {},
   "source": [
    "1. Column Transformer - https://www.youtube.com/watch?v=5TVj6iEBR4I\n",
    "2. Sklearn Pipelines - https://www.youtube.com/watch?v=xOccYkgRV4Q"
   ]
  },
  {
   "cell_type": "markdown",
   "id": "f9c45147-5927-4409-bb74-6d7d561b700d",
   "metadata": {},
   "source": [
    " 1. Pickling your model - https://www.youtube.com/watch?v=yY1FXX_GSco\n",
    " 2. Flask Tutorial - https://www.youtube.com/watch?v=swHI1H7DVsQ\n",
    " 3. Streamlit Tutorial - https://www.youtube.com/watch?v=Klqn--Mu2pE\n",
    " 4. Deploy model on Heroku - https://www.youtube.com/watch?v=YncZ0WwxyzU\n",
    " 5. Deploy model on AWS - https://www.youtube.com/watch?v=_rwNTY5Mn40\n",
    " 6. Deploy model to GCP - https://www.youtube.com/watch?v=fw6NMQrYc6w\n",
    " 7. Deploy model to Azure - https://www.youtube.com/watch?v=qnbJcbjh-3s\n",
    " 8. ML model to Android App - https://www.youtube.com/watch?v=ax3WyB-_LJY"
   ]
  },
  {
   "cell_type": "code",
   "execution_count": null,
   "id": "107959e0-b3a7-4143-8c47-52c3f0d2dede",
   "metadata": {},
   "outputs": [],
   "source": []
  }
 ],
 "metadata": {
  "kernelspec": {
   "display_name": "Python 3 (ipykernel)",
   "language": "python",
   "name": "python3"
  },
  "language_info": {
   "codemirror_mode": {
    "name": "ipython",
    "version": 3
   },
   "file_extension": ".py",
   "mimetype": "text/x-python",
   "name": "python",
   "nbconvert_exporter": "python",
   "pygments_lexer": "ipython3",
   "version": "3.11.5"
  }
 },
 "nbformat": 4,
 "nbformat_minor": 5
}
