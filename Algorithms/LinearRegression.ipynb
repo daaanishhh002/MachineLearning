{
 "cells": [
  {
   "cell_type": "markdown",
   "id": "4fde1b76-c522-4da1-8331-37893d37509b",
   "metadata": {
    "tags": []
   },
   "source": [
    "# Linear Regression\n",
    "\n",
    "Linear regression is a way to look at how something changes when other things change using math. A linear regression uses a dependent variable and one or more explanatory variables to create a straight line. This straight line is known as a **line of regression**."
   ]
  },
  {
   "cell_type": "markdown",
   "id": "4a0f648b-52c5-4bb3-bfe3-53c756b90e2c",
   "metadata": {},
   "source": [
    "![](https://upload.wikimedia.org/wikipedia/commons/thumb/3/3a/Linear_regression.svg/600px-Linear_regression.svg.png)"
   ]
  },
  {
   "cell_type": "markdown",
   "id": "71ab85bc-de4d-40c7-bc50-02a9d767980f",
   "metadata": {},
   "source": [
    "Linear regression models try to make the vertical distance between the line and the data points (that is, the residuals) as small as possible. This is called *fitting the line to the data*. Often, linear regression models try to minimize the sum of the squares of the residuals (least squares), but other ways of fitting exist."
   ]
  },
  {
   "cell_type": "markdown",
   "id": "e184f1f6-28b8-4610-8225-dee33405b45e",
   "metadata": {},
   "source": [
    "$$\\hat{y} = w_1x_1 + w_2x_2 + \\dots + w_nx_n + b$$\n",
    "\n",
    "- $\\hat{y} \\to$ predicted output value\n",
    "- x $\\to$ input value\n",
    "- w $\\to$ weights\n",
    "- b $\\to$ bias"
   ]
  },
  {
   "cell_type": "markdown",
   "id": "9906dd9a-6df1-4748-bbe5-41375da222c4",
   "metadata": {},
   "source": [
    "We can calculate $\\hat{y}$ by substituting the values of weights and biases in the above equation. Every model has a set of different values for weights and biases. To find the weights and biases for a model, we can use either a closed form solution or a non-closed form solution.  \n",
    "\n",
    "- Ordinary Least Squares $\\to$ Closed form solution\n",
    "- Gradient Descent Approach $\\to$ Non-closed form solution"
   ]
  },
  {
   "cell_type": "markdown",
   "id": "dad2da10-979f-44d6-a4c0-073737a9b14c",
   "metadata": {},
   "source": [
    "There exists one flaw in **Ordinary Least Squares** method. As the dimensionality of the dataset increases, it takes longer to compute the weights and biases. Whereas, this is not the case in **Gradient Descent Approach**."
   ]
  },
  {
   "cell_type": "markdown",
   "id": "24e59624-f9e1-47e8-b1fd-2cf62b7994ec",
   "metadata": {},
   "source": [
    "## Intuition"
   ]
  },
  {
   "cell_type": "markdown",
   "id": "4d8c3cdc-cdcd-444a-be78-c3444e564044",
   "metadata": {},
   "source": [
    "We first draw a *random line/plane/hyperplane* in the space where the samples are present. We then find the vertical distance between each sample, square it and the *line/plane/hyperplane*, and sum it. This is the **cost function** of the model. We then use **gradient descent** to update the values of weights and biases, to such a point that the cost function is the lowest. This line which minimises the cost function is called the **line of fit**."
   ]
  },
  {
   "cell_type": "code",
   "execution_count": null,
   "id": "79a901a6-c02d-4f3f-b445-eed959c6f868",
   "metadata": {},
   "outputs": [],
   "source": []
  },
  {
   "cell_type": "code",
   "execution_count": null,
   "id": "f87b9a20-43ab-463e-831a-e90ab3ec59f7",
   "metadata": {},
   "outputs": [],
   "source": []
  },
  {
   "cell_type": "code",
   "execution_count": null,
   "id": "deaaf3a0-d6f0-4a56-9c63-10a9cfdafcbf",
   "metadata": {},
   "outputs": [],
   "source": []
  },
  {
   "cell_type": "code",
   "execution_count": null,
   "id": "5c9d4aaf-5003-467d-b926-5ba20e49875a",
   "metadata": {},
   "outputs": [],
   "source": []
  },
  {
   "cell_type": "markdown",
   "id": "0ddb5bef-4350-42bf-b885-e62631f386a3",
   "metadata": {},
   "source": [
    "## Types of Linear Regression\n",
    "\n",
    "1. Simple Linear Regression\n",
    "2. Multiple Linear Regression\n",
    "3. Polynomial Regression"
   ]
  },
  {
   "cell_type": "code",
   "execution_count": null,
   "id": "35155585-0e0b-4e7c-be1d-de1573383a8f",
   "metadata": {},
   "outputs": [],
   "source": []
  }
 ],
 "metadata": {
  "kernelspec": {
   "display_name": "Python 3 (ipykernel)",
   "language": "python",
   "name": "python3"
  },
  "language_info": {
   "codemirror_mode": {
    "name": "ipython",
    "version": 3
   },
   "file_extension": ".py",
   "mimetype": "text/x-python",
   "name": "python",
   "nbconvert_exporter": "python",
   "pygments_lexer": "ipython3",
   "version": "3.11.5"
  }
 },
 "nbformat": 4,
 "nbformat_minor": 5
}
